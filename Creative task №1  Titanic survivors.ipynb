{
  "nbformat": 4,
  "nbformat_minor": 0,
  "metadata": {
    "colab": {
      "provenance": [],
      "gpuType": "T4",
      "authorship_tag": "ABX9TyMuwGQi46uv3FqcKmfgBYc/",
      "include_colab_link": true
    },
    "kernelspec": {
      "name": "python3",
      "display_name": "Python 3"
    },
    "language_info": {
      "name": "python"
    },
    "accelerator": "GPU"
  },
  "cells": [
    {
      "cell_type": "markdown",
      "metadata": {
        "id": "view-in-github",
        "colab_type": "text"
      },
      "source": [
        "<a href=\"https://colab.research.google.com/github/KernAlexandr/KernAlexandr/blob/main/Creative%20task%20%E2%84%961%20%20Titanic%20survivors.ipynb\" target=\"_parent\"><img src=\"https://colab.research.google.com/assets/colab-badge.svg\" alt=\"Open In Colab\"/></a>"
      ]
    },
    {
      "cell_type": "markdown",
      "source": [
        "Используется датасет: https://www.kaggle.com/c/titanic/data"
      ],
      "metadata": {
        "id": "vZDWjhwfaonP"
      }
    },
    {
      "cell_type": "code",
      "source": [
        "import pandas as pd # библиотека для работы с дата фреймами\n",
        "import numpy as np # библиотека для работы с массивами\n",
        "\n",
        "from sklearn.metrics import accuracy_score # Метрика Проверка точности модели\n",
        "from sklearn.metrics import classification_report # Отчёт по метрикам (precision, recall, f1-score)\n",
        "from sklearn.metrics import confusion_matrix # Метрика для построения матриц ошибок\n",
        "from sklearn.metrics import precision_score # Метрика (Точность)\n",
        "from sklearn.metrics import recall_score # Метрика (Полнота)\n",
        "from sklearn.metrics import f1_score # Метрика (F1 мера)\n",
        "\n",
        "# импорт библиотек для визуализации данных\n",
        "import seaborn as sns\n",
        "import matplotlib.pyplot as plt\n",
        "%matplotlib inline"
      ],
      "metadata": {
        "id": "iKH4HQ-_OJsS"
      },
      "execution_count": null,
      "outputs": []
    },
    {
      "cell_type": "code",
      "source": [
        "# Отключим предупреждения Python, чтобы не захламлять лишним выводом наш Блокнот\n",
        "import warnings\n",
        "warnings.filterwarnings('ignore')"
      ],
      "metadata": {
        "id": "g5lG_M3fTWf_"
      },
      "execution_count": null,
      "outputs": []
    },
    {
      "cell_type": "markdown",
      "source": [
        "## Загрузим все необходимые файлы (датасеты) для работы"
      ],
      "metadata": {
        "id": "r9KK4t1VhZee"
      }
    },
    {
      "cell_type": "code",
      "source": [
        "# Создаем дата фрейм из загруженного датасета обучающих данных train.csv\n",
        "df_train = pd.read_csv('/content/Titanic/train.csv')"
      ],
      "metadata": {
        "id": "R5luZQ6XN__0"
      },
      "execution_count": null,
      "outputs": []
    },
    {
      "cell_type": "code",
      "source": [
        "# Создаем дата фрейм из загруженного датасета тестируемых данных test.csv\n",
        "df_test = pd.read_csv('/content/Titanic/test.csv')"
      ],
      "metadata": {
        "id": "p4YpYpMzgeG5"
      },
      "execution_count": null,
      "outputs": []
    },
    {
      "cell_type": "code",
      "source": [
        "# Создаем дата фрейм из загруженного датасета классификации тестовых данных данных gender_submission.csv\n",
        "df_gs = pd.read_csv('/content/Titanic/gender_submission.csv')"
      ],
      "metadata": {
        "id": "X8KP91nPg24-"
      },
      "execution_count": null,
      "outputs": []
    },
    {
      "cell_type": "markdown",
      "source": [
        "## 1. Исследуем и подготавливаем датасеты\n",
        "### Тренировочный датасет Пассажиров Титаника\n"
      ],
      "metadata": {
        "id": "MVdbFUvVWGc4"
      }
    },
    {
      "cell_type": "code",
      "source": [
        "# Выведем общую информацию об дата фрейме\n",
        "df_train.info()"
      ],
      "metadata": {
        "colab": {
          "base_uri": "https://localhost:8080/"
        },
        "id": "5HcGOUtbUUt5",
        "outputId": "131f2ec5-ebf1-4556-dd40-22b76e30f530"
      },
      "execution_count": null,
      "outputs": [
        {
          "output_type": "stream",
          "name": "stdout",
          "text": [
            "<class 'pandas.core.frame.DataFrame'>\n",
            "RangeIndex: 891 entries, 0 to 890\n",
            "Data columns (total 12 columns):\n",
            " #   Column       Non-Null Count  Dtype  \n",
            "---  ------       --------------  -----  \n",
            " 0   PassengerId  891 non-null    int64  \n",
            " 1   Survived     891 non-null    int64  \n",
            " 2   Pclass       891 non-null    int64  \n",
            " 3   Name         891 non-null    object \n",
            " 4   Sex          891 non-null    object \n",
            " 5   Age          714 non-null    float64\n",
            " 6   SibSp        891 non-null    int64  \n",
            " 7   Parch        891 non-null    int64  \n",
            " 8   Ticket       891 non-null    object \n",
            " 9   Fare         891 non-null    float64\n",
            " 10  Cabin        204 non-null    object \n",
            " 11  Embarked     889 non-null    object \n",
            "dtypes: float64(2), int64(5), object(5)\n",
            "memory usage: 83.7+ KB\n"
          ]
        }
      ]
    },
    {
      "cell_type": "markdown",
      "source": [
        "Дата фрейм `df_train` представляет собой таблицу, состоящую из 12 столбцов и 891 записи о пассажирах\n",
        "\n",
        "Названия столбцов:\n",
        "\n",
        "1) PassengerId - **ИД пассажира**,\n",
        "\n",
        "2) Survived - Выжил (**0 - НЕТ, 1 - ДА**),\n",
        "\n",
        "3) Pclass - **Социально-экономический статус  (1, 2, 3)**, самый высокий 1\n",
        "\n",
        "4) Name - Имя пассажира,\n",
        "\n",
        "5) Sex - **Пол пассажира**,\n",
        "\n",
        "6) Age - **Возраст пассажира в годах**,\n",
        "\n",
        "7) SibSp - **Количество братьев и сестер/супругов на борту Титаника**,\n",
        "\n",
        "8) Parch - **Количество родителей/детей на борту Титаника**,\n",
        "\n",
        "9) Ticket - Номер билет,\n",
        "\n",
        "10) Fare - Стоимость проезда,\n",
        "\n",
        "11) Cabin - **Номер каюты**,\n",
        "\n",
        "12) Embarker - Порт отправления (C = Шербур, Q = Квинстаун, S = Саутгемптон)\n"
      ],
      "metadata": {
        "id": "mTjpqwDUWFKH"
      }
    },
    {
      "cell_type": "code",
      "source": [
        "# Исследуем пустые значения\n",
        "df_train.isnull().sum()"
      ],
      "metadata": {
        "colab": {
          "base_uri": "https://localhost:8080/",
          "height": 460
        },
        "id": "mcYJnyo1sVQL",
        "outputId": "d84c43b6-5992-4747-ba18-e81e65ac6738"
      },
      "execution_count": null,
      "outputs": [
        {
          "output_type": "execute_result",
          "data": {
            "text/plain": [
              "PassengerId      0\n",
              "Survived         0\n",
              "Pclass           0\n",
              "Name             0\n",
              "Sex              0\n",
              "Age            177\n",
              "SibSp            0\n",
              "Parch            0\n",
              "Ticket           0\n",
              "Fare             0\n",
              "Cabin          687\n",
              "Embarked         2\n",
              "dtype: int64"
            ],
            "text/html": [
              "<div>\n",
              "<style scoped>\n",
              "    .dataframe tbody tr th:only-of-type {\n",
              "        vertical-align: middle;\n",
              "    }\n",
              "\n",
              "    .dataframe tbody tr th {\n",
              "        vertical-align: top;\n",
              "    }\n",
              "\n",
              "    .dataframe thead th {\n",
              "        text-align: right;\n",
              "    }\n",
              "</style>\n",
              "<table border=\"1\" class=\"dataframe\">\n",
              "  <thead>\n",
              "    <tr style=\"text-align: right;\">\n",
              "      <th></th>\n",
              "      <th>0</th>\n",
              "    </tr>\n",
              "  </thead>\n",
              "  <tbody>\n",
              "    <tr>\n",
              "      <th>PassengerId</th>\n",
              "      <td>0</td>\n",
              "    </tr>\n",
              "    <tr>\n",
              "      <th>Survived</th>\n",
              "      <td>0</td>\n",
              "    </tr>\n",
              "    <tr>\n",
              "      <th>Pclass</th>\n",
              "      <td>0</td>\n",
              "    </tr>\n",
              "    <tr>\n",
              "      <th>Name</th>\n",
              "      <td>0</td>\n",
              "    </tr>\n",
              "    <tr>\n",
              "      <th>Sex</th>\n",
              "      <td>0</td>\n",
              "    </tr>\n",
              "    <tr>\n",
              "      <th>Age</th>\n",
              "      <td>177</td>\n",
              "    </tr>\n",
              "    <tr>\n",
              "      <th>SibSp</th>\n",
              "      <td>0</td>\n",
              "    </tr>\n",
              "    <tr>\n",
              "      <th>Parch</th>\n",
              "      <td>0</td>\n",
              "    </tr>\n",
              "    <tr>\n",
              "      <th>Ticket</th>\n",
              "      <td>0</td>\n",
              "    </tr>\n",
              "    <tr>\n",
              "      <th>Fare</th>\n",
              "      <td>0</td>\n",
              "    </tr>\n",
              "    <tr>\n",
              "      <th>Cabin</th>\n",
              "      <td>687</td>\n",
              "    </tr>\n",
              "    <tr>\n",
              "      <th>Embarked</th>\n",
              "      <td>2</td>\n",
              "    </tr>\n",
              "  </tbody>\n",
              "</table>\n",
              "</div><br><label><b>dtype:</b> int64</label>"
            ]
          },
          "metadata": {},
          "execution_count": 376
        }
      ]
    },
    {
      "cell_type": "markdown",
      "source": [
        "Наблюдаем, что данных в столбцах:\n",
        "- **Age - 714**\n",
        "- **Cabin - 204**\n",
        "- **Embarked - 889**\n",
        "\n",
        "Меньше общего числа пассажиров **891**, это говорит о том, что признаки: Возраст, Номер кабины, Порт отправления, есть не у всех пассажиров.\n",
        "\n",
        "Тем самым, некоторыми данными для обучения модели, **возможно**, придется пренебречь"
      ],
      "metadata": {
        "id": "H_MuMV6Kjxnd"
      }
    },
    {
      "cell_type": "code",
      "source": [
        "#Сделаем столбец PassengerId индексным\n",
        "df_train.set_index('PassengerId', inplace=True)"
      ],
      "metadata": {
        "id": "ifm2dne-qaWJ"
      },
      "execution_count": null,
      "outputs": []
    },
    {
      "cell_type": "code",
      "source": [
        "# Проверим на дубликаты\n",
        "df_train.duplicated().sum()"
      ],
      "metadata": {
        "colab": {
          "base_uri": "https://localhost:8080/"
        },
        "id": "Y1G8WL2Qud_m",
        "outputId": "a66961e5-58cb-4874-99c2-fa1948b55d0f"
      },
      "execution_count": null,
      "outputs": [
        {
          "output_type": "execute_result",
          "data": {
            "text/plain": [
              "np.int64(0)"
            ]
          },
          "metadata": {},
          "execution_count": 378
        }
      ]
    },
    {
      "cell_type": "code",
      "source": [
        "# Исследуем голову\n",
        "df_train.head(100)"
      ],
      "metadata": {
        "colab": {
          "base_uri": "https://localhost:8080/",
          "height": 455
        },
        "id": "DpHRKI22Wi_a",
        "outputId": "e82239cf-51b5-4f1e-841a-1c11c78c9145"
      },
      "execution_count": null,
      "outputs": [
        {
          "output_type": "execute_result",
          "data": {
            "text/plain": [
              "             Survived  Pclass  \\\n",
              "PassengerId                     \n",
              "1                   0       3   \n",
              "2                   1       1   \n",
              "3                   1       3   \n",
              "4                   1       1   \n",
              "5                   0       3   \n",
              "...               ...     ...   \n",
              "96                  0       3   \n",
              "97                  0       1   \n",
              "98                  1       1   \n",
              "99                  1       2   \n",
              "100                 0       2   \n",
              "\n",
              "                                                          Name     Sex   Age  \\\n",
              "PassengerId                                                                    \n",
              "1                                      Braund, Mr. Owen Harris    male  22.0   \n",
              "2            Cumings, Mrs. John Bradley (Florence Briggs Th...  female  38.0   \n",
              "3                                       Heikkinen, Miss. Laina  female  26.0   \n",
              "4                 Futrelle, Mrs. Jacques Heath (Lily May Peel)  female  35.0   \n",
              "5                                     Allen, Mr. William Henry    male  35.0   \n",
              "...                                                        ...     ...   ...   \n",
              "96                                 Shorney, Mr. Charles Joseph    male   NaN   \n",
              "97                                   Goldschmidt, Mr. George B    male  71.0   \n",
              "98                             Greenfield, Mr. William Bertram    male  23.0   \n",
              "99                        Doling, Mrs. John T (Ada Julia Bone)  female  34.0   \n",
              "100                                          Kantor, Mr. Sinai    male  34.0   \n",
              "\n",
              "             SibSp  Parch            Ticket     Fare    Cabin Embarked  \n",
              "PassengerId                                                             \n",
              "1                1      0         A/5 21171   7.2500      NaN        S  \n",
              "2                1      0          PC 17599  71.2833      C85        C  \n",
              "3                0      0  STON/O2. 3101282   7.9250      NaN        S  \n",
              "4                1      0            113803  53.1000     C123        S  \n",
              "5                0      0            373450   8.0500      NaN        S  \n",
              "...            ...    ...               ...      ...      ...      ...  \n",
              "96               0      0            374910   8.0500      NaN        S  \n",
              "97               0      0          PC 17754  34.6542       A5        C  \n",
              "98               0      1          PC 17759  63.3583  D10 D12        C  \n",
              "99               0      1            231919  23.0000      NaN        S  \n",
              "100              1      0            244367  26.0000      NaN        S  \n",
              "\n",
              "[100 rows x 11 columns]"
            ],
            "text/html": [
              "\n",
              "  <div id=\"df-da829ef6-2e65-4564-98d1-b2f2a7b91813\" class=\"colab-df-container\">\n",
              "    <div>\n",
              "<style scoped>\n",
              "    .dataframe tbody tr th:only-of-type {\n",
              "        vertical-align: middle;\n",
              "    }\n",
              "\n",
              "    .dataframe tbody tr th {\n",
              "        vertical-align: top;\n",
              "    }\n",
              "\n",
              "    .dataframe thead th {\n",
              "        text-align: right;\n",
              "    }\n",
              "</style>\n",
              "<table border=\"1\" class=\"dataframe\">\n",
              "  <thead>\n",
              "    <tr style=\"text-align: right;\">\n",
              "      <th></th>\n",
              "      <th>Survived</th>\n",
              "      <th>Pclass</th>\n",
              "      <th>Name</th>\n",
              "      <th>Sex</th>\n",
              "      <th>Age</th>\n",
              "      <th>SibSp</th>\n",
              "      <th>Parch</th>\n",
              "      <th>Ticket</th>\n",
              "      <th>Fare</th>\n",
              "      <th>Cabin</th>\n",
              "      <th>Embarked</th>\n",
              "    </tr>\n",
              "    <tr>\n",
              "      <th>PassengerId</th>\n",
              "      <th></th>\n",
              "      <th></th>\n",
              "      <th></th>\n",
              "      <th></th>\n",
              "      <th></th>\n",
              "      <th></th>\n",
              "      <th></th>\n",
              "      <th></th>\n",
              "      <th></th>\n",
              "      <th></th>\n",
              "      <th></th>\n",
              "    </tr>\n",
              "  </thead>\n",
              "  <tbody>\n",
              "    <tr>\n",
              "      <th>1</th>\n",
              "      <td>0</td>\n",
              "      <td>3</td>\n",
              "      <td>Braund, Mr. Owen Harris</td>\n",
              "      <td>male</td>\n",
              "      <td>22.0</td>\n",
              "      <td>1</td>\n",
              "      <td>0</td>\n",
              "      <td>A/5 21171</td>\n",
              "      <td>7.2500</td>\n",
              "      <td>NaN</td>\n",
              "      <td>S</td>\n",
              "    </tr>\n",
              "    <tr>\n",
              "      <th>2</th>\n",
              "      <td>1</td>\n",
              "      <td>1</td>\n",
              "      <td>Cumings, Mrs. John Bradley (Florence Briggs Th...</td>\n",
              "      <td>female</td>\n",
              "      <td>38.0</td>\n",
              "      <td>1</td>\n",
              "      <td>0</td>\n",
              "      <td>PC 17599</td>\n",
              "      <td>71.2833</td>\n",
              "      <td>C85</td>\n",
              "      <td>C</td>\n",
              "    </tr>\n",
              "    <tr>\n",
              "      <th>3</th>\n",
              "      <td>1</td>\n",
              "      <td>3</td>\n",
              "      <td>Heikkinen, Miss. Laina</td>\n",
              "      <td>female</td>\n",
              "      <td>26.0</td>\n",
              "      <td>0</td>\n",
              "      <td>0</td>\n",
              "      <td>STON/O2. 3101282</td>\n",
              "      <td>7.9250</td>\n",
              "      <td>NaN</td>\n",
              "      <td>S</td>\n",
              "    </tr>\n",
              "    <tr>\n",
              "      <th>4</th>\n",
              "      <td>1</td>\n",
              "      <td>1</td>\n",
              "      <td>Futrelle, Mrs. Jacques Heath (Lily May Peel)</td>\n",
              "      <td>female</td>\n",
              "      <td>35.0</td>\n",
              "      <td>1</td>\n",
              "      <td>0</td>\n",
              "      <td>113803</td>\n",
              "      <td>53.1000</td>\n",
              "      <td>C123</td>\n",
              "      <td>S</td>\n",
              "    </tr>\n",
              "    <tr>\n",
              "      <th>5</th>\n",
              "      <td>0</td>\n",
              "      <td>3</td>\n",
              "      <td>Allen, Mr. William Henry</td>\n",
              "      <td>male</td>\n",
              "      <td>35.0</td>\n",
              "      <td>0</td>\n",
              "      <td>0</td>\n",
              "      <td>373450</td>\n",
              "      <td>8.0500</td>\n",
              "      <td>NaN</td>\n",
              "      <td>S</td>\n",
              "    </tr>\n",
              "    <tr>\n",
              "      <th>...</th>\n",
              "      <td>...</td>\n",
              "      <td>...</td>\n",
              "      <td>...</td>\n",
              "      <td>...</td>\n",
              "      <td>...</td>\n",
              "      <td>...</td>\n",
              "      <td>...</td>\n",
              "      <td>...</td>\n",
              "      <td>...</td>\n",
              "      <td>...</td>\n",
              "      <td>...</td>\n",
              "    </tr>\n",
              "    <tr>\n",
              "      <th>96</th>\n",
              "      <td>0</td>\n",
              "      <td>3</td>\n",
              "      <td>Shorney, Mr. Charles Joseph</td>\n",
              "      <td>male</td>\n",
              "      <td>NaN</td>\n",
              "      <td>0</td>\n",
              "      <td>0</td>\n",
              "      <td>374910</td>\n",
              "      <td>8.0500</td>\n",
              "      <td>NaN</td>\n",
              "      <td>S</td>\n",
              "    </tr>\n",
              "    <tr>\n",
              "      <th>97</th>\n",
              "      <td>0</td>\n",
              "      <td>1</td>\n",
              "      <td>Goldschmidt, Mr. George B</td>\n",
              "      <td>male</td>\n",
              "      <td>71.0</td>\n",
              "      <td>0</td>\n",
              "      <td>0</td>\n",
              "      <td>PC 17754</td>\n",
              "      <td>34.6542</td>\n",
              "      <td>A5</td>\n",
              "      <td>C</td>\n",
              "    </tr>\n",
              "    <tr>\n",
              "      <th>98</th>\n",
              "      <td>1</td>\n",
              "      <td>1</td>\n",
              "      <td>Greenfield, Mr. William Bertram</td>\n",
              "      <td>male</td>\n",
              "      <td>23.0</td>\n",
              "      <td>0</td>\n",
              "      <td>1</td>\n",
              "      <td>PC 17759</td>\n",
              "      <td>63.3583</td>\n",
              "      <td>D10 D12</td>\n",
              "      <td>C</td>\n",
              "    </tr>\n",
              "    <tr>\n",
              "      <th>99</th>\n",
              "      <td>1</td>\n",
              "      <td>2</td>\n",
              "      <td>Doling, Mrs. John T (Ada Julia Bone)</td>\n",
              "      <td>female</td>\n",
              "      <td>34.0</td>\n",
              "      <td>0</td>\n",
              "      <td>1</td>\n",
              "      <td>231919</td>\n",
              "      <td>23.0000</td>\n",
              "      <td>NaN</td>\n",
              "      <td>S</td>\n",
              "    </tr>\n",
              "    <tr>\n",
              "      <th>100</th>\n",
              "      <td>0</td>\n",
              "      <td>2</td>\n",
              "      <td>Kantor, Mr. Sinai</td>\n",
              "      <td>male</td>\n",
              "      <td>34.0</td>\n",
              "      <td>1</td>\n",
              "      <td>0</td>\n",
              "      <td>244367</td>\n",
              "      <td>26.0000</td>\n",
              "      <td>NaN</td>\n",
              "      <td>S</td>\n",
              "    </tr>\n",
              "  </tbody>\n",
              "</table>\n",
              "<p>100 rows × 11 columns</p>\n",
              "</div>\n",
              "    <div class=\"colab-df-buttons\">\n",
              "\n",
              "  <div class=\"colab-df-container\">\n",
              "    <button class=\"colab-df-convert\" onclick=\"convertToInteractive('df-da829ef6-2e65-4564-98d1-b2f2a7b91813')\"\n",
              "            title=\"Convert this dataframe to an interactive table.\"\n",
              "            style=\"display:none;\">\n",
              "\n",
              "  <svg xmlns=\"http://www.w3.org/2000/svg\" height=\"24px\" viewBox=\"0 -960 960 960\">\n",
              "    <path d=\"M120-120v-720h720v720H120Zm60-500h600v-160H180v160Zm220 220h160v-160H400v160Zm0 220h160v-160H400v160ZM180-400h160v-160H180v160Zm440 0h160v-160H620v160ZM180-180h160v-160H180v160Zm440 0h160v-160H620v160Z\"/>\n",
              "  </svg>\n",
              "    </button>\n",
              "\n",
              "  <style>\n",
              "    .colab-df-container {\n",
              "      display:flex;\n",
              "      gap: 12px;\n",
              "    }\n",
              "\n",
              "    .colab-df-convert {\n",
              "      background-color: #E8F0FE;\n",
              "      border: none;\n",
              "      border-radius: 50%;\n",
              "      cursor: pointer;\n",
              "      display: none;\n",
              "      fill: #1967D2;\n",
              "      height: 32px;\n",
              "      padding: 0 0 0 0;\n",
              "      width: 32px;\n",
              "    }\n",
              "\n",
              "    .colab-df-convert:hover {\n",
              "      background-color: #E2EBFA;\n",
              "      box-shadow: 0px 1px 2px rgba(60, 64, 67, 0.3), 0px 1px 3px 1px rgba(60, 64, 67, 0.15);\n",
              "      fill: #174EA6;\n",
              "    }\n",
              "\n",
              "    .colab-df-buttons div {\n",
              "      margin-bottom: 4px;\n",
              "    }\n",
              "\n",
              "    [theme=dark] .colab-df-convert {\n",
              "      background-color: #3B4455;\n",
              "      fill: #D2E3FC;\n",
              "    }\n",
              "\n",
              "    [theme=dark] .colab-df-convert:hover {\n",
              "      background-color: #434B5C;\n",
              "      box-shadow: 0px 1px 3px 1px rgba(0, 0, 0, 0.15);\n",
              "      filter: drop-shadow(0px 1px 2px rgba(0, 0, 0, 0.3));\n",
              "      fill: #FFFFFF;\n",
              "    }\n",
              "  </style>\n",
              "\n",
              "    <script>\n",
              "      const buttonEl =\n",
              "        document.querySelector('#df-da829ef6-2e65-4564-98d1-b2f2a7b91813 button.colab-df-convert');\n",
              "      buttonEl.style.display =\n",
              "        google.colab.kernel.accessAllowed ? 'block' : 'none';\n",
              "\n",
              "      async function convertToInteractive(key) {\n",
              "        const element = document.querySelector('#df-da829ef6-2e65-4564-98d1-b2f2a7b91813');\n",
              "        const dataTable =\n",
              "          await google.colab.kernel.invokeFunction('convertToInteractive',\n",
              "                                                    [key], {});\n",
              "        if (!dataTable) return;\n",
              "\n",
              "        const docLinkHtml = 'Like what you see? Visit the ' +\n",
              "          '<a target=\"_blank\" href=https://colab.research.google.com/notebooks/data_table.ipynb>data table notebook</a>'\n",
              "          + ' to learn more about interactive tables.';\n",
              "        element.innerHTML = '';\n",
              "        dataTable['output_type'] = 'display_data';\n",
              "        await google.colab.output.renderOutput(dataTable, element);\n",
              "        const docLink = document.createElement('div');\n",
              "        docLink.innerHTML = docLinkHtml;\n",
              "        element.appendChild(docLink);\n",
              "      }\n",
              "    </script>\n",
              "  </div>\n",
              "\n",
              "\n",
              "    <div id=\"df-c09da286-1d83-4e94-ac2a-3a1af97e5a70\">\n",
              "      <button class=\"colab-df-quickchart\" onclick=\"quickchart('df-c09da286-1d83-4e94-ac2a-3a1af97e5a70')\"\n",
              "                title=\"Suggest charts\"\n",
              "                style=\"display:none;\">\n",
              "\n",
              "<svg xmlns=\"http://www.w3.org/2000/svg\" height=\"24px\"viewBox=\"0 0 24 24\"\n",
              "     width=\"24px\">\n",
              "    <g>\n",
              "        <path d=\"M19 3H5c-1.1 0-2 .9-2 2v14c0 1.1.9 2 2 2h14c1.1 0 2-.9 2-2V5c0-1.1-.9-2-2-2zM9 17H7v-7h2v7zm4 0h-2V7h2v10zm4 0h-2v-4h2v4z\"/>\n",
              "    </g>\n",
              "</svg>\n",
              "      </button>\n",
              "\n",
              "<style>\n",
              "  .colab-df-quickchart {\n",
              "      --bg-color: #E8F0FE;\n",
              "      --fill-color: #1967D2;\n",
              "      --hover-bg-color: #E2EBFA;\n",
              "      --hover-fill-color: #174EA6;\n",
              "      --disabled-fill-color: #AAA;\n",
              "      --disabled-bg-color: #DDD;\n",
              "  }\n",
              "\n",
              "  [theme=dark] .colab-df-quickchart {\n",
              "      --bg-color: #3B4455;\n",
              "      --fill-color: #D2E3FC;\n",
              "      --hover-bg-color: #434B5C;\n",
              "      --hover-fill-color: #FFFFFF;\n",
              "      --disabled-bg-color: #3B4455;\n",
              "      --disabled-fill-color: #666;\n",
              "  }\n",
              "\n",
              "  .colab-df-quickchart {\n",
              "    background-color: var(--bg-color);\n",
              "    border: none;\n",
              "    border-radius: 50%;\n",
              "    cursor: pointer;\n",
              "    display: none;\n",
              "    fill: var(--fill-color);\n",
              "    height: 32px;\n",
              "    padding: 0;\n",
              "    width: 32px;\n",
              "  }\n",
              "\n",
              "  .colab-df-quickchart:hover {\n",
              "    background-color: var(--hover-bg-color);\n",
              "    box-shadow: 0 1px 2px rgba(60, 64, 67, 0.3), 0 1px 3px 1px rgba(60, 64, 67, 0.15);\n",
              "    fill: var(--button-hover-fill-color);\n",
              "  }\n",
              "\n",
              "  .colab-df-quickchart-complete:disabled,\n",
              "  .colab-df-quickchart-complete:disabled:hover {\n",
              "    background-color: var(--disabled-bg-color);\n",
              "    fill: var(--disabled-fill-color);\n",
              "    box-shadow: none;\n",
              "  }\n",
              "\n",
              "  .colab-df-spinner {\n",
              "    border: 2px solid var(--fill-color);\n",
              "    border-color: transparent;\n",
              "    border-bottom-color: var(--fill-color);\n",
              "    animation:\n",
              "      spin 1s steps(1) infinite;\n",
              "  }\n",
              "\n",
              "  @keyframes spin {\n",
              "    0% {\n",
              "      border-color: transparent;\n",
              "      border-bottom-color: var(--fill-color);\n",
              "      border-left-color: var(--fill-color);\n",
              "    }\n",
              "    20% {\n",
              "      border-color: transparent;\n",
              "      border-left-color: var(--fill-color);\n",
              "      border-top-color: var(--fill-color);\n",
              "    }\n",
              "    30% {\n",
              "      border-color: transparent;\n",
              "      border-left-color: var(--fill-color);\n",
              "      border-top-color: var(--fill-color);\n",
              "      border-right-color: var(--fill-color);\n",
              "    }\n",
              "    40% {\n",
              "      border-color: transparent;\n",
              "      border-right-color: var(--fill-color);\n",
              "      border-top-color: var(--fill-color);\n",
              "    }\n",
              "    60% {\n",
              "      border-color: transparent;\n",
              "      border-right-color: var(--fill-color);\n",
              "    }\n",
              "    80% {\n",
              "      border-color: transparent;\n",
              "      border-right-color: var(--fill-color);\n",
              "      border-bottom-color: var(--fill-color);\n",
              "    }\n",
              "    90% {\n",
              "      border-color: transparent;\n",
              "      border-bottom-color: var(--fill-color);\n",
              "    }\n",
              "  }\n",
              "</style>\n",
              "\n",
              "      <script>\n",
              "        async function quickchart(key) {\n",
              "          const quickchartButtonEl =\n",
              "            document.querySelector('#' + key + ' button');\n",
              "          quickchartButtonEl.disabled = true;  // To prevent multiple clicks.\n",
              "          quickchartButtonEl.classList.add('colab-df-spinner');\n",
              "          try {\n",
              "            const charts = await google.colab.kernel.invokeFunction(\n",
              "                'suggestCharts', [key], {});\n",
              "          } catch (error) {\n",
              "            console.error('Error during call to suggestCharts:', error);\n",
              "          }\n",
              "          quickchartButtonEl.classList.remove('colab-df-spinner');\n",
              "          quickchartButtonEl.classList.add('colab-df-quickchart-complete');\n",
              "        }\n",
              "        (() => {\n",
              "          let quickchartButtonEl =\n",
              "            document.querySelector('#df-c09da286-1d83-4e94-ac2a-3a1af97e5a70 button');\n",
              "          quickchartButtonEl.style.display =\n",
              "            google.colab.kernel.accessAllowed ? 'block' : 'none';\n",
              "        })();\n",
              "      </script>\n",
              "    </div>\n",
              "    </div>\n",
              "  </div>\n"
            ],
            "application/vnd.google.colaboratory.intrinsic+json": {
              "type": "dataframe",
              "variable_name": "df_train",
              "summary": "{\n  \"name\": \"df_train\",\n  \"rows\": 891,\n  \"fields\": [\n    {\n      \"column\": \"PassengerId\",\n      \"properties\": {\n        \"dtype\": \"number\",\n        \"std\": 257,\n        \"min\": 1,\n        \"max\": 891,\n        \"num_unique_values\": 891,\n        \"samples\": [\n          710,\n          440,\n          841\n        ],\n        \"semantic_type\": \"\",\n        \"description\": \"\"\n      }\n    },\n    {\n      \"column\": \"Survived\",\n      \"properties\": {\n        \"dtype\": \"number\",\n        \"std\": 0,\n        \"min\": 0,\n        \"max\": 1,\n        \"num_unique_values\": 2,\n        \"samples\": [\n          1,\n          0\n        ],\n        \"semantic_type\": \"\",\n        \"description\": \"\"\n      }\n    },\n    {\n      \"column\": \"Pclass\",\n      \"properties\": {\n        \"dtype\": \"number\",\n        \"std\": 0,\n        \"min\": 1,\n        \"max\": 3,\n        \"num_unique_values\": 3,\n        \"samples\": [\n          3,\n          1\n        ],\n        \"semantic_type\": \"\",\n        \"description\": \"\"\n      }\n    },\n    {\n      \"column\": \"Name\",\n      \"properties\": {\n        \"dtype\": \"string\",\n        \"num_unique_values\": 891,\n        \"samples\": [\n          \"Moubarek, Master. Halim Gonios (\\\"William George\\\")\",\n          \"Kvillner, Mr. Johan Henrik Johannesson\"\n        ],\n        \"semantic_type\": \"\",\n        \"description\": \"\"\n      }\n    },\n    {\n      \"column\": \"Sex\",\n      \"properties\": {\n        \"dtype\": \"category\",\n        \"num_unique_values\": 2,\n        \"samples\": [\n          \"female\",\n          \"male\"\n        ],\n        \"semantic_type\": \"\",\n        \"description\": \"\"\n      }\n    },\n    {\n      \"column\": \"Age\",\n      \"properties\": {\n        \"dtype\": \"number\",\n        \"std\": 14.526497332334044,\n        \"min\": 0.42,\n        \"max\": 80.0,\n        \"num_unique_values\": 88,\n        \"samples\": [\n          0.75,\n          22.0\n        ],\n        \"semantic_type\": \"\",\n        \"description\": \"\"\n      }\n    },\n    {\n      \"column\": \"SibSp\",\n      \"properties\": {\n        \"dtype\": \"number\",\n        \"std\": 1,\n        \"min\": 0,\n        \"max\": 8,\n        \"num_unique_values\": 7,\n        \"samples\": [\n          1,\n          0\n        ],\n        \"semantic_type\": \"\",\n        \"description\": \"\"\n      }\n    },\n    {\n      \"column\": \"Parch\",\n      \"properties\": {\n        \"dtype\": \"number\",\n        \"std\": 0,\n        \"min\": 0,\n        \"max\": 6,\n        \"num_unique_values\": 7,\n        \"samples\": [\n          0,\n          1\n        ],\n        \"semantic_type\": \"\",\n        \"description\": \"\"\n      }\n    },\n    {\n      \"column\": \"Ticket\",\n      \"properties\": {\n        \"dtype\": \"string\",\n        \"num_unique_values\": 681,\n        \"samples\": [\n          \"11774\",\n          \"248740\"\n        ],\n        \"semantic_type\": \"\",\n        \"description\": \"\"\n      }\n    },\n    {\n      \"column\": \"Fare\",\n      \"properties\": {\n        \"dtype\": \"number\",\n        \"std\": 49.693428597180905,\n        \"min\": 0.0,\n        \"max\": 512.3292,\n        \"num_unique_values\": 248,\n        \"samples\": [\n          11.2417,\n          51.8625\n        ],\n        \"semantic_type\": \"\",\n        \"description\": \"\"\n      }\n    },\n    {\n      \"column\": \"Cabin\",\n      \"properties\": {\n        \"dtype\": \"category\",\n        \"num_unique_values\": 147,\n        \"samples\": [\n          \"D45\",\n          \"B49\"\n        ],\n        \"semantic_type\": \"\",\n        \"description\": \"\"\n      }\n    },\n    {\n      \"column\": \"Embarked\",\n      \"properties\": {\n        \"dtype\": \"category\",\n        \"num_unique_values\": 3,\n        \"samples\": [\n          \"S\",\n          \"C\"\n        ],\n        \"semantic_type\": \"\",\n        \"description\": \"\"\n      }\n    }\n  ]\n}"
            }
          },
          "metadata": {},
          "execution_count": 379
        }
      ]
    },
    {
      "cell_type": "code",
      "source": [
        "#визуализируем статистические данные по числовым столбцам\n",
        "f,ax = plt.subplots(figsize=(5, 5))\n",
        "sns.heatmap(df_train[['Age','SibSp','Parch','Fare']].describe(), annot = True, fmt= '.2f', cmap='crest')\n",
        "plt.show()"
      ],
      "metadata": {
        "colab": {
          "base_uri": "https://localhost:8080/",
          "height": 445
        },
        "id": "x4evA2_1ooV6",
        "outputId": "a30d613e-bad2-48c1-b6e2-50944f047952"
      },
      "execution_count": null,
      "outputs": [
        {
          "output_type": "display_data",
          "data": {
            "text/plain": [
              "<Figure size 500x500 with 2 Axes>"
            ],
            "image/png": "[encoded data removed]"
          },
          "metadata": {}
        }
      ]
    },
    {
      "cell_type": "markdown",
      "source": [
        "Проанализировав таблицу, заметим, что:\n",
        "- Средний возраст пассажиров был около 30\n",
        "- Среднее колличество родственников на человека примерно 1\n",
        "- Средняя цена билета 32.2"
      ],
      "metadata": {
        "id": "HZHFw-usQ-fI"
      }
    },
    {
      "cell_type": "code",
      "source": [
        "# Смотрим количество уникальных значений в столбцах\n",
        "df_train.nunique()"
      ],
      "metadata": {
        "colab": {
          "base_uri": "https://localhost:8080/",
          "height": 429
        },
        "id": "99pN0q0eusp5",
        "outputId": "16b78f99-dc72-4e13-adbf-b71874291c8b"
      },
      "execution_count": null,
      "outputs": [
        {
          "output_type": "execute_result",
          "data": {
            "text/plain": [
              "Survived      2\n",
              "Pclass        3\n",
              "Name        891\n",
              "Sex           2\n",
              "Age          88\n",
              "SibSp         7\n",
              "Parch         7\n",
              "Ticket      681\n",
              "Fare        248\n",
              "Cabin       147\n",
              "Embarked      3\n",
              "dtype: int64"
            ],
            "text/html": [
              "<div>\n",
              "<style scoped>\n",
              "    .dataframe tbody tr th:only-of-type {\n",
              "        vertical-align: middle;\n",
              "    }\n",
              "\n",
              "    .dataframe tbody tr th {\n",
              "        vertical-align: top;\n",
              "    }\n",
              "\n",
              "    .dataframe thead th {\n",
              "        text-align: right;\n",
              "    }\n",
              "</style>\n",
              "<table border=\"1\" class=\"dataframe\">\n",
              "  <thead>\n",
              "    <tr style=\"text-align: right;\">\n",
              "      <th></th>\n",
              "      <th>0</th>\n",
              "    </tr>\n",
              "  </thead>\n",
              "  <tbody>\n",
              "    <tr>\n",
              "      <th>Survived</th>\n",
              "      <td>2</td>\n",
              "    </tr>\n",
              "    <tr>\n",
              "      <th>Pclass</th>\n",
              "      <td>3</td>\n",
              "    </tr>\n",
              "    <tr>\n",
              "      <th>Name</th>\n",
              "      <td>891</td>\n",
              "    </tr>\n",
              "    <tr>\n",
              "      <th>Sex</th>\n",
              "      <td>2</td>\n",
              "    </tr>\n",
              "    <tr>\n",
              "      <th>Age</th>\n",
              "      <td>88</td>\n",
              "    </tr>\n",
              "    <tr>\n",
              "      <th>SibSp</th>\n",
              "      <td>7</td>\n",
              "    </tr>\n",
              "    <tr>\n",
              "      <th>Parch</th>\n",
              "      <td>7</td>\n",
              "    </tr>\n",
              "    <tr>\n",
              "      <th>Ticket</th>\n",
              "      <td>681</td>\n",
              "    </tr>\n",
              "    <tr>\n",
              "      <th>Fare</th>\n",
              "      <td>248</td>\n",
              "    </tr>\n",
              "    <tr>\n",
              "      <th>Cabin</th>\n",
              "      <td>147</td>\n",
              "    </tr>\n",
              "    <tr>\n",
              "      <th>Embarked</th>\n",
              "      <td>3</td>\n",
              "    </tr>\n",
              "  </tbody>\n",
              "</table>\n",
              "</div><br><label><b>dtype:</b> int64</label>"
            ]
          },
          "metadata": {},
          "execution_count": 381
        }
      ]
    },
    {
      "cell_type": "markdown",
      "source": [
        "Заменим данные в ячейках на числовые : SEX (male - 1, female - 2) , Embarked (C - 1, Q - 2, S - 3)"
      ],
      "metadata": {
        "id": "iYXcs5IxrIyS"
      }
    },
    {
      "cell_type": "code",
      "source": [
        "#Заменяем данные в ячейках на числовые с преобразованием типа данных на int и заменой\n",
        "df_train['Sex'] = df_train['Sex'].replace({'male': 1, 'female': 2}).astype(int)\n",
        "df_train['Embarked'] = pd.to_numeric(df_train['Embarked'].replace({'C': 1, 'Q': 2, 'S': 3}), errors='coerce').fillna(0).astype(int)"
      ],
      "metadata": {
        "id": "5C8s6m-zwF7G"
      },
      "execution_count": null,
      "outputs": []
    },
    {
      "cell_type": "markdown",
      "source": [
        "Удалим признаки, на мой взгляд, не такие важные: Имя, Номер билета, Номер Каюты"
      ],
      "metadata": {
        "id": "OUA8moTk0a4Z"
      }
    },
    {
      "cell_type": "code",
      "source": [
        "# Удалим столбцы\n",
        "df_train = df_train.drop(['Name','Ticket','Cabin'], axis=1)"
      ],
      "metadata": {
        "id": "B7q_pkbb0KPp"
      },
      "execution_count": null,
      "outputs": []
    },
    {
      "cell_type": "code",
      "source": [
        "# Визуализируем корреляцию\n",
        "f,ax = plt.subplots(figsize=(10, 10))\n",
        "sns.heatmap(df_train.corr(), annot = True, fmt= '.2f', cmap='Spectral')\n",
        "plt.show()"
      ],
      "metadata": {
        "colab": {
          "base_uri": "https://localhost:8080/",
          "height": 836
        },
        "id": "ten1LqZ03kQg",
        "outputId": "cc78080a-814b-4c9f-9450-5f7aff2a4332"
      },
      "execution_count": null,
      "outputs": [
        {
          "output_type": "display_data",
          "data": {
            "text/plain": [
              "<Figure size 1000x1000 with 2 Axes>"
            ],
            "image/png": "[encoded data removed]"
          },
          "metadata": {}
        }
      ]
    },
    {
      "cell_type": "markdown",
      "source": [
        "Проанализировав таблицу корреляции данных, можно сказать что, **Survived** коррелирует с признаками: **Sex , Pclass, Fare** ."
      ],
      "metadata": {
        "id": "ojA3e93z4c-X"
      }
    },
    {
      "cell_type": "markdown",
      "source": [
        "Проанализируем баланс классов выживших и нет"
      ],
      "metadata": {
        "id": "PEqQrdLx2MuF"
      }
    },
    {
      "cell_type": "code",
      "source": [
        "# Создадим новый дата фрейм с подсчетом выживших и нет\n",
        "df_survived = df_train.Survived.value_counts()\n",
        "df_survived.head()"
      ],
      "metadata": {
        "colab": {
          "base_uri": "https://localhost:8080/",
          "height": 178
        },
        "id": "yJet0w3d1rDP",
        "outputId": "d23cd11f-4837-4538-a60b-49b4b6d1ce84"
      },
      "execution_count": null,
      "outputs": [
        {
          "output_type": "execute_result",
          "data": {
            "text/plain": [
              "Survived\n",
              "0    549\n",
              "1    342\n",
              "Name: count, dtype: int64"
            ],
            "text/html": [
              "<div>\n",
              "<style scoped>\n",
              "    .dataframe tbody tr th:only-of-type {\n",
              "        vertical-align: middle;\n",
              "    }\n",
              "\n",
              "    .dataframe tbody tr th {\n",
              "        vertical-align: top;\n",
              "    }\n",
              "\n",
              "    .dataframe thead th {\n",
              "        text-align: right;\n",
              "    }\n",
              "</style>\n",
              "<table border=\"1\" class=\"dataframe\">\n",
              "  <thead>\n",
              "    <tr style=\"text-align: right;\">\n",
              "      <th></th>\n",
              "      <th>count</th>\n",
              "    </tr>\n",
              "    <tr>\n",
              "      <th>Survived</th>\n",
              "      <th></th>\n",
              "    </tr>\n",
              "  </thead>\n",
              "  <tbody>\n",
              "    <tr>\n",
              "      <th>0</th>\n",
              "      <td>549</td>\n",
              "    </tr>\n",
              "    <tr>\n",
              "      <th>1</th>\n",
              "      <td>342</td>\n",
              "    </tr>\n",
              "  </tbody>\n",
              "</table>\n",
              "</div><br><label><b>dtype:</b> int64</label>"
            ]
          },
          "metadata": {},
          "execution_count": 385
        }
      ]
    },
    {
      "cell_type": "code",
      "source": [
        "# Строим график с подсчетом выживших, и нет\n",
        "plt.figure(figsize=(5, 5))\n",
        "ax = sns.barplot(\n",
        "    x=df_survived.index,\n",
        "    y=df_survived.values,\n",
        "    palette=\"viridis\",\n",
        "    order=df_survived.index  # Важно: явно задаём порядок!\n",
        ")\n",
        "\n",
        "# Заголовки и подписи осей\n",
        "plt.title('Отношение невыживших к выжившим пассажирам', fontsize=14)\n",
        "plt.xlabel('')\n",
        "plt.ylabel('Количество пассажиров', fontsize=12)\n",
        "\n",
        "# Считаем проценты\n",
        "total = sum(df_survived.values)\n",
        "percentages = [f'{(y/total)*100:.1f}%' for y in df_survived.values]\n",
        "\n",
        "# Добавляем подписи\n",
        "for bar, y, percent in zip(ax.patches, df_survived.values, percentages):\n",
        "    height = bar.get_height()\n",
        "    ax.text(\n",
        "        bar.get_x() + bar.get_width() / 2,  # x-центр столбца\n",
        "        height + 0.01 * total,              # y-позиция (чуть выше вершины)\n",
        "        f\"{y}\\n({percent})\",                # текст (значение + процент)\n",
        "        ha='center',\n",
        "        fontsize=12\n",
        "    )\n",
        "\n",
        "plt.ylim(0, max(df_survived.values) * 1.2)  # Запас для подписей\n",
        "plt.tight_layout()\n",
        "plt.show()"
      ],
      "metadata": {
        "colab": {
          "base_uri": "https://localhost:8080/",
          "height": 507
        },
        "id": "9sYKTs0t21jg",
        "outputId": "9d98d020-485e-473d-9dbb-3720105bcac4"
      },
      "execution_count": null,
      "outputs": [
        {
          "output_type": "display_data",
          "data": {
            "text/plain": [
              "<Figure size 500x500 with 1 Axes>"
            ],
            "image/png": "[encoded data removed]"
          },
          "metadata": {}
        }
      ]
    },
    {
      "cell_type": "markdown",
      "source": [
        "Наблюдаем дисбаланс классов, выживших примерно в 2 раза меньше, чем тех кто не выжил"
      ],
      "metadata": {
        "id": "qeYRhRYZ42F0"
      }
    },
    {
      "cell_type": "markdown",
      "source": [
        "Попробуем пронаблюдать какие зависимости признаков выживаемости на Титанике"
      ],
      "metadata": {
        "id": "e8KWS2HITphO"
      }
    },
    {
      "cell_type": "code",
      "source": [
        "# Убираем 'Survived' из списка признаков\n",
        "features = df_train.columns.drop('Survived')\n",
        "\n",
        "# Создаем сетку графиков (1 строка x 7 колонок, всего 7 мест)\n",
        "fig, axes = plt.subplots(nrows=1, ncols=7, figsize=(16, 3))  # Можно подобрать размер\n",
        "fig.tight_layout(pad=1.1)  # Отступы между графиками\n",
        "\n",
        "# Проходим по всем признакам и рисуем violinplot\n",
        "for i, feature in enumerate(features):\n",
        "    col = i   # Номер колонки (0-6)\n",
        "    ax = axes[col]\n",
        "\n",
        "\n",
        "    sns.violinplot(\n",
        "        x='Survived',\n",
        "        y=feature,\n",
        "        data=df_train,\n",
        "        ax=ax,\n",
        "        palette={'0': \"salmon\", '1': \"lightgreen\"},\n",
        "        inner=\"quart\",\n",
        "        split=True, # берет только половину графика\n",
        "        width=1.0 # убираем отступ между \"скрипками\"\n",
        "    )\n",
        "    ax.set_title(f'{feature} / Survived')\n",
        "    ax.set_xlabel('')\n",
        "    ax.set_ylabel('')\n",
        "\n",
        "\n",
        "plt.show()"
      ],
      "metadata": {
        "colab": {
          "base_uri": "https://localhost:8080/",
          "height": 323
        },
        "id": "aBx7DotAZ158",
        "outputId": "294708d0-47fc-4144-a68b-e6301b9a02be"
      },
      "execution_count": null,
      "outputs": [
        {
          "output_type": "display_data",
          "data": {
            "text/plain": [
              "<Figure size 1600x300 with 7 Axes>"
            ],
            "image/png": "[encoded data removed]"
          },
          "metadata": {}
        }
      ]
    },
    {
      "cell_type": "markdown",
      "source": [
        "Проанализировав зависимости признаков выживаемости на Титанике сделаем следующие выводы:\n",
        "\n",
        "1) Чем выше Социально-экономический статус тем больше шансов выжить\n",
        "\n",
        "2) У женщин выжить шансов в 2 раза больше чем у мужчин\n",
        "\n",
        "3) Детей спасали чаще чем взрослых\n",
        "\n",
        "4) Количество братьев и сестер/супругов на борту Титаника не сильно сказалось на выживаемости,\n",
        "\n",
        "5) Возможно маленьких детей с родителями спасали в первую очередь, так как спасенных, больше чем неспасенных.\n",
        "\n",
        "6) Чем дороже билет тем больше шансов на выживание\n",
        "\n",
        "7) У севших на корабль в порту \"C = Шербур\" шансов выжить больше чем у других"
      ],
      "metadata": {
        "id": "0gXyOz7gd2cx"
      }
    },
    {
      "cell_type": "markdown",
      "source": [
        "## 2. Подготовим данные для обучения модели"
      ],
      "metadata": {
        "id": "f-k5i06HgevM"
      }
    },
    {
      "cell_type": "markdown",
      "source": [
        "Так как мы в тренировочном датасете, все используемые данные уже представили в числовом формате, а признаки, которые на наш взгляд не являются значимыми, удалили, то осталось разобраться с пропущенными записями о возврасте."
      ],
      "metadata": {
        "id": "on4koAoyglB5"
      }
    },
    {
      "cell_type": "markdown",
      "source": [
        "Мы выявили, что возраст имеет значения в выживаемости, пропуски составляют 177 значений, что составляет 1/5 часть от дата сета, тем самым делаем вывод, что удалять строки с пропущенным возрастом не очень хорошая идея. Необходимо заполнить данные пропуски."
      ],
      "metadata": {
        "id": "aUqFLzzwlwCx"
      }
    },
    {
      "cell_type": "markdown",
      "source": [
        "Посмотрим зависимость пассажиров с неуказанными возрастами к другим признакам"
      ],
      "metadata": {
        "id": "GAzq_Xmtmocn"
      }
    },
    {
      "cell_type": "code",
      "source": [
        "df_train[df_train['Age'].isna()]"
      ],
      "metadata": {
        "colab": {
          "base_uri": "https://localhost:8080/",
          "height": 455
        },
        "id": "CPIZ98dvkVIj",
        "outputId": "077bc19d-aa1b-4bfe-bd90-b2c2c65d6622"
      },
      "execution_count": null,
      "outputs": [
        {
          "output_type": "execute_result",
          "data": {
            "text/plain": [
              "             Survived  Pclass  Sex  Age  SibSp  Parch     Fare  Embarked\n",
              "PassengerId                                                             \n",
              "6                   0       3    1  NaN      0      0   8.4583         2\n",
              "18                  1       2    1  NaN      0      0  13.0000         3\n",
              "20                  1       3    2  NaN      0      0   7.2250         1\n",
              "27                  0       3    1  NaN      0      0   7.2250         1\n",
              "29                  1       3    2  NaN      0      0   7.8792         2\n",
              "...               ...     ...  ...  ...    ...    ...      ...       ...\n",
              "860                 0       3    1  NaN      0      0   7.2292         1\n",
              "864                 0       3    2  NaN      8      2  69.5500         3\n",
              "869                 0       3    1  NaN      0      0   9.5000         3\n",
              "879                 0       3    1  NaN      0      0   7.8958         3\n",
              "889                 0       3    2  NaN      1      2  23.4500         3\n",
              "\n",
              "[177 rows x 8 columns]"
            ],
            "text/html": [
              "\n",
              "  <div id=\"df-0f18a7ec-aabe-4b92-bcb2-0344f46d04bf\" class=\"colab-df-container\">\n",
              "    <div>\n",
              "<style scoped>\n",
              "    .dataframe tbody tr th:only-of-type {\n",
              "        vertical-align: middle;\n",
              "    }\n",
              "\n",
              "    .dataframe tbody tr th {\n",
              "        vertical-align: top;\n",
              "    }\n",
              "\n",
              "    .dataframe thead th {\n",
              "        text-align: right;\n",
              "    }\n",
              "</style>\n",
              "<table border=\"1\" class=\"dataframe\">\n",
              "  <thead>\n",
              "    <tr style=\"text-align: right;\">\n",
              "      <th></th>\n",
              "      <th>Survived</th>\n",
              "      <th>Pclass</th>\n",
              "      <th>Sex</th>\n",
              "      <th>Age</th>\n",
              "      <th>SibSp</th>\n",
              "      <th>Parch</th>\n",
              "      <th>Fare</th>\n",
              "      <th>Embarked</th>\n",
              "    </tr>\n",
              "    <tr>\n",
              "      <th>PassengerId</th>\n",
              "      <th></th>\n",
              "      <th></th>\n",
              "      <th></th>\n",
              "      <th></th>\n",
              "      <th></th>\n",
              "      <th></th>\n",
              "      <th></th>\n",
              "      <th></th>\n",
              "    </tr>\n",
              "  </thead>\n",
              "  <tbody>\n",
              "    <tr>\n",
              "      <th>6</th>\n",
              "      <td>0</td>\n",
              "      <td>3</td>\n",
              "      <td>1</td>\n",
              "      <td>NaN</td>\n",
              "      <td>0</td>\n",
              "      <td>0</td>\n",
              "      <td>8.4583</td>\n",
              "      <td>2</td>\n",
              "    </tr>\n",
              "    <tr>\n",
              "      <th>18</th>\n",
              "      <td>1</td>\n",
              "      <td>2</td>\n",
              "      <td>1</td>\n",
              "      <td>NaN</td>\n",
              "      <td>0</td>\n",
              "      <td>0</td>\n",
              "      <td>13.0000</td>\n",
              "      <td>3</td>\n",
              "    </tr>\n",
              "    <tr>\n",
              "      <th>20</th>\n",
              "      <td>1</td>\n",
              "      <td>3</td>\n",
              "      <td>2</td>\n",
              "      <td>NaN</td>\n",
              "      <td>0</td>\n",
              "      <td>0</td>\n",
              "      <td>7.2250</td>\n",
              "      <td>1</td>\n",
              "    </tr>\n",
              "    <tr>\n",
              "      <th>27</th>\n",
              "      <td>0</td>\n",
              "      <td>3</td>\n",
              "      <td>1</td>\n",
              "      <td>NaN</td>\n",
              "      <td>0</td>\n",
              "      <td>0</td>\n",
              "      <td>7.2250</td>\n",
              "      <td>1</td>\n",
              "    </tr>\n",
              "    <tr>\n",
              "      <th>29</th>\n",
              "      <td>1</td>\n",
              "      <td>3</td>\n",
              "      <td>2</td>\n",
              "      <td>NaN</td>\n",
              "      <td>0</td>\n",
              "      <td>0</td>\n",
              "      <td>7.8792</td>\n",
              "      <td>2</td>\n",
              "    </tr>\n",
              "    <tr>\n",
              "      <th>...</th>\n",
              "      <td>...</td>\n",
              "      <td>...</td>\n",
              "      <td>...</td>\n",
              "      <td>...</td>\n",
              "      <td>...</td>\n",
              "      <td>...</td>\n",
              "      <td>...</td>\n",
              "      <td>...</td>\n",
              "    </tr>\n",
              "    <tr>\n",
              "      <th>860</th>\n",
              "      <td>0</td>\n",
              "      <td>3</td>\n",
              "      <td>1</td>\n",
              "      <td>NaN</td>\n",
              "      <td>0</td>\n",
              "      <td>0</td>\n",
              "      <td>7.2292</td>\n",
              "      <td>1</td>\n",
              "    </tr>\n",
              "    <tr>\n",
              "      <th>864</th>\n",
              "      <td>0</td>\n",
              "      <td>3</td>\n",
              "      <td>2</td>\n",
              "      <td>NaN</td>\n",
              "      <td>8</td>\n",
              "      <td>2</td>\n",
              "      <td>69.5500</td>\n",
              "      <td>3</td>\n",
              "    </tr>\n",
              "    <tr>\n",
              "      <th>869</th>\n",
              "      <td>0</td>\n",
              "      <td>3</td>\n",
              "      <td>1</td>\n",
              "      <td>NaN</td>\n",
              "      <td>0</td>\n",
              "      <td>0</td>\n",
              "      <td>9.5000</td>\n",
              "      <td>3</td>\n",
              "    </tr>\n",
              "    <tr>\n",
              "      <th>879</th>\n",
              "      <td>0</td>\n",
              "      <td>3</td>\n",
              "      <td>1</td>\n",
              "      <td>NaN</td>\n",
              "      <td>0</td>\n",
              "      <td>0</td>\n",
              "      <td>7.8958</td>\n",
              "      <td>3</td>\n",
              "    </tr>\n",
              "    <tr>\n",
              "      <th>889</th>\n",
              "      <td>0</td>\n",
              "      <td>3</td>\n",
              "      <td>2</td>\n",
              "      <td>NaN</td>\n",
              "      <td>1</td>\n",
              "      <td>2</td>\n",
              "      <td>23.4500</td>\n",
              "      <td>3</td>\n",
              "    </tr>\n",
              "  </tbody>\n",
              "</table>\n",
              "<p>177 rows × 8 columns</p>\n",
              "</div>\n",
              "    <div class=\"colab-df-buttons\">\n",
              "\n",
              "  <div class=\"colab-df-container\">\n",
              "    <button class=\"colab-df-convert\" onclick=\"convertToInteractive('df-0f18a7ec-aabe-4b92-bcb2-0344f46d04bf')\"\n",
              "            title=\"Convert this dataframe to an interactive table.\"\n",
              "            style=\"display:none;\">\n",
              "\n",
              "  <svg xmlns=\"http://www.w3.org/2000/svg\" height=\"24px\" viewBox=\"0 -960 960 960\">\n",
              "    <path d=\"M120-120v-720h720v720H120Zm60-500h600v-160H180v160Zm220 220h160v-160H400v160Zm0 220h160v-160H400v160ZM180-400h160v-160H180v160Zm440 0h160v-160H620v160ZM180-180h160v-160H180v160Zm440 0h160v-160H620v160Z\"/>\n",
              "  </svg>\n",
              "    </button>\n",
              "\n",
              "  <style>\n",
              "    .colab-df-container {\n",
              "      display:flex;\n",
              "      gap: 12px;\n",
              "    }\n",
              "\n",
              "    .colab-df-convert {\n",
              "      background-color: #E8F0FE;\n",
              "      border: none;\n",
              "      border-radius: 50%;\n",
              "      cursor: pointer;\n",
              "      display: none;\n",
              "      fill: #1967D2;\n",
              "      height: 32px;\n",
              "      padding: 0 0 0 0;\n",
              "      width: 32px;\n",
              "    }\n",
              "\n",
              "    .colab-df-convert:hover {\n",
              "      background-color: #E2EBFA;\n",
              "      box-shadow: 0px 1px 2px rgba(60, 64, 67, 0.3), 0px 1px 3px 1px rgba(60, 64, 67, 0.15);\n",
              "      fill: #174EA6;\n",
              "    }\n",
              "\n",
              "    .colab-df-buttons div {\n",
              "      margin-bottom: 4px;\n",
              "    }\n",
              "\n",
              "    [theme=dark] .colab-df-convert {\n",
              "      background-color: #3B4455;\n",
              "      fill: #D2E3FC;\n",
              "    }\n",
              "\n",
              "    [theme=dark] .colab-df-convert:hover {\n",
              "      background-color: #434B5C;\n",
              "      box-shadow: 0px 1px 3px 1px rgba(0, 0, 0, 0.15);\n",
              "      filter: drop-shadow(0px 1px 2px rgba(0, 0, 0, 0.3));\n",
              "      fill: #FFFFFF;\n",
              "    }\n",
              "  </style>\n",
              "\n",
              "    <script>\n",
              "      const buttonEl =\n",
              "        document.querySelector('#df-0f18a7ec-aabe-4b92-bcb2-0344f46d04bf button.colab-df-convert');\n",
              "      buttonEl.style.display =\n",
              "        google.colab.kernel.accessAllowed ? 'block' : 'none';\n",
              "\n",
              "      async function convertToInteractive(key) {\n",
              "        const element = document.querySelector('#df-0f18a7ec-aabe-4b92-bcb2-0344f46d04bf');\n",
              "        const dataTable =\n",
              "          await google.colab.kernel.invokeFunction('convertToInteractive',\n",
              "                                                    [key], {});\n",
              "        if (!dataTable) return;\n",
              "\n",
              "        const docLinkHtml = 'Like what you see? Visit the ' +\n",
              "          '<a target=\"_blank\" href=https://colab.research.google.com/notebooks/data_table.ipynb>data table notebook</a>'\n",
              "          + ' to learn more about interactive tables.';\n",
              "        element.innerHTML = '';\n",
              "        dataTable['output_type'] = 'display_data';\n",
              "        await google.colab.output.renderOutput(dataTable, element);\n",
              "        const docLink = document.createElement('div');\n",
              "        docLink.innerHTML = docLinkHtml;\n",
              "        element.appendChild(docLink);\n",
              "      }\n",
              "    </script>\n",
              "  </div>\n",
              "\n",
              "\n",
              "    <div id=\"df-39f8e185-ffa8-4133-ae15-c01556f0aa40\">\n",
              "      <button class=\"colab-df-quickchart\" onclick=\"quickchart('df-39f8e185-ffa8-4133-ae15-c01556f0aa40')\"\n",
              "                title=\"Suggest charts\"\n",
              "                style=\"display:none;\">\n",
              "\n",
              "<svg xmlns=\"http://www.w3.org/2000/svg\" height=\"24px\"viewBox=\"0 0 24 24\"\n",
              "     width=\"24px\">\n",
              "    <g>\n",
              "        <path d=\"M19 3H5c-1.1 0-2 .9-2 2v14c0 1.1.9 2 2 2h14c1.1 0 2-.9 2-2V5c0-1.1-.9-2-2-2zM9 17H7v-7h2v7zm4 0h-2V7h2v10zm4 0h-2v-4h2v4z\"/>\n",
              "    </g>\n",
              "</svg>\n",
              "      </button>\n",
              "\n",
              "<style>\n",
              "  .colab-df-quickchart {\n",
              "      --bg-color: #E8F0FE;\n",
              "      --fill-color: #1967D2;\n",
              "      --hover-bg-color: #E2EBFA;\n",
              "      --hover-fill-color: #174EA6;\n",
              "      --disabled-fill-color: #AAA;\n",
              "      --disabled-bg-color: #DDD;\n",
              "  }\n",
              "\n",
              "  [theme=dark] .colab-df-quickchart {\n",
              "      --bg-color: #3B4455;\n",
              "      --fill-color: #D2E3FC;\n",
              "      --hover-bg-color: #434B5C;\n",
              "      --hover-fill-color: #FFFFFF;\n",
              "      --disabled-bg-color: #3B4455;\n",
              "      --disabled-fill-color: #666;\n",
              "  }\n",
              "\n",
              "  .colab-df-quickchart {\n",
              "    background-color: var(--bg-color);\n",
              "    border: none;\n",
              "    border-radius: 50%;\n",
              "    cursor: pointer;\n",
              "    display: none;\n",
              "    fill: var(--fill-color);\n",
              "    height: 32px;\n",
              "    padding: 0;\n",
              "    width: 32px;\n",
              "  }\n",
              "\n",
              "  .colab-df-quickchart:hover {\n",
              "    background-color: var(--hover-bg-color);\n",
              "    box-shadow: 0 1px 2px rgba(60, 64, 67, 0.3), 0 1px 3px 1px rgba(60, 64, 67, 0.15);\n",
              "    fill: var(--button-hover-fill-color);\n",
              "  }\n",
              "\n",
              "  .colab-df-quickchart-complete:disabled,\n",
              "  .colab-df-quickchart-complete:disabled:hover {\n",
              "    background-color: var(--disabled-bg-color);\n",
              "    fill: var(--disabled-fill-color);\n",
              "    box-shadow: none;\n",
              "  }\n",
              "\n",
              "  .colab-df-spinner {\n",
              "    border: 2px solid var(--fill-color);\n",
              "    border-color: transparent;\n",
              "    border-bottom-color: var(--fill-color);\n",
              "    animation:\n",
              "      spin 1s steps(1) infinite;\n",
              "  }\n",
              "\n",
              "  @keyframes spin {\n",
              "    0% {\n",
              "      border-color: transparent;\n",
              "      border-bottom-color: var(--fill-color);\n",
              "      border-left-color: var(--fill-color);\n",
              "    }\n",
              "    20% {\n",
              "      border-color: transparent;\n",
              "      border-left-color: var(--fill-color);\n",
              "      border-top-color: var(--fill-color);\n",
              "    }\n",
              "    30% {\n",
              "      border-color: transparent;\n",
              "      border-left-color: var(--fill-color);\n",
              "      border-top-color: var(--fill-color);\n",
              "      border-right-color: var(--fill-color);\n",
              "    }\n",
              "    40% {\n",
              "      border-color: transparent;\n",
              "      border-right-color: var(--fill-color);\n",
              "      border-top-color: var(--fill-color);\n",
              "    }\n",
              "    60% {\n",
              "      border-color: transparent;\n",
              "      border-right-color: var(--fill-color);\n",
              "    }\n",
              "    80% {\n",
              "      border-color: transparent;\n",
              "      border-right-color: var(--fill-color);\n",
              "      border-bottom-color: var(--fill-color);\n",
              "    }\n",
              "    90% {\n",
              "      border-color: transparent;\n",
              "      border-bottom-color: var(--fill-color);\n",
              "    }\n",
              "  }\n",
              "</style>\n",
              "\n",
              "      <script>\n",
              "        async function quickchart(key) {\n",
              "          const quickchartButtonEl =\n",
              "            document.querySelector('#' + key + ' button');\n",
              "          quickchartButtonEl.disabled = true;  // To prevent multiple clicks.\n",
              "          quickchartButtonEl.classList.add('colab-df-spinner');\n",
              "          try {\n",
              "            const charts = await google.colab.kernel.invokeFunction(\n",
              "                'suggestCharts', [key], {});\n",
              "          } catch (error) {\n",
              "            console.error('Error during call to suggestCharts:', error);\n",
              "          }\n",
              "          quickchartButtonEl.classList.remove('colab-df-spinner');\n",
              "          quickchartButtonEl.classList.add('colab-df-quickchart-complete');\n",
              "        }\n",
              "        (() => {\n",
              "          let quickchartButtonEl =\n",
              "            document.querySelector('#df-39f8e185-ffa8-4133-ae15-c01556f0aa40 button');\n",
              "          quickchartButtonEl.style.display =\n",
              "            google.colab.kernel.accessAllowed ? 'block' : 'none';\n",
              "        })();\n",
              "      </script>\n",
              "    </div>\n",
              "    </div>\n",
              "  </div>\n"
            ],
            "application/vnd.google.colaboratory.intrinsic+json": {
              "type": "dataframe",
              "summary": "{\n  \"name\": \"df_train[df_train['Age']\",\n  \"rows\": 177,\n  \"fields\": [\n    {\n      \"column\": \"PassengerId\",\n      \"properties\": {\n        \"dtype\": \"number\",\n        \"std\": 250,\n        \"min\": 6,\n        \"max\": 889,\n        \"num_unique_values\": 177,\n        \"samples\": [\n          83,\n          236,\n          668\n        ],\n        \"semantic_type\": \"\",\n        \"description\": \"\"\n      }\n    },\n    {\n      \"column\": \"Survived\",\n      \"properties\": {\n        \"dtype\": \"number\",\n        \"std\": 0,\n        \"min\": 0,\n        \"max\": 1,\n        \"num_unique_values\": 2,\n        \"samples\": [\n          1,\n          0\n        ],\n        \"semantic_type\": \"\",\n        \"description\": \"\"\n      }\n    },\n    {\n      \"column\": \"Pclass\",\n      \"properties\": {\n        \"dtype\": \"number\",\n        \"std\": 0,\n        \"min\": 1,\n        \"max\": 3,\n        \"num_unique_values\": 3,\n        \"samples\": [\n          3,\n          2\n        ],\n        \"semantic_type\": \"\",\n        \"description\": \"\"\n      }\n    },\n    {\n      \"column\": \"Sex\",\n      \"properties\": {\n        \"dtype\": \"number\",\n        \"std\": 0,\n        \"min\": 1,\n        \"max\": 2,\n        \"num_unique_values\": 2,\n        \"samples\": [\n          2,\n          1\n        ],\n        \"semantic_type\": \"\",\n        \"description\": \"\"\n      }\n    },\n    {\n      \"column\": \"Age\",\n      \"properties\": {\n        \"dtype\": \"number\",\n        \"std\": null,\n        \"min\": null,\n        \"max\": null,\n        \"num_unique_values\": 0,\n        \"samples\": [],\n        \"semantic_type\": \"\",\n        \"description\": \"\"\n      }\n    },\n    {\n      \"column\": \"SibSp\",\n      \"properties\": {\n        \"dtype\": \"number\",\n        \"std\": 1,\n        \"min\": 0,\n        \"max\": 8,\n        \"num_unique_values\": 5,\n        \"samples\": [],\n        \"semantic_type\": \"\",\n        \"description\": \"\"\n      }\n    },\n    {\n      \"column\": \"Parch\",\n      \"properties\": {\n        \"dtype\": \"number\",\n        \"std\": 0,\n        \"min\": 0,\n        \"max\": 2,\n        \"num_unique_values\": 3,\n        \"samples\": [],\n        \"semantic_type\": \"\",\n        \"description\": \"\"\n      }\n    },\n    {\n      \"column\": \"Fare\",\n      \"properties\": {\n        \"dtype\": \"number\",\n        \"std\": 31.874608202349055,\n        \"min\": 0.0,\n        \"max\": 227.525,\n        \"num_unique_values\": 73,\n        \"samples\": [],\n        \"semantic_type\": \"\",\n        \"description\": \"\"\n      }\n    },\n    {\n      \"column\": \"Embarked\",\n      \"properties\": {\n        \"dtype\": \"number\",\n        \"std\": 0,\n        \"min\": 1,\n        \"max\": 3,\n        \"num_unique_values\": 3,\n        \"samples\": [],\n        \"semantic_type\": \"\",\n        \"description\": \"\"\n      }\n    }\n  ]\n}"
            }
          },
          "metadata": {},
          "execution_count": 388
        }
      ]
    },
    {
      "cell_type": "code",
      "source": [
        "print(df_train[df_train['Age'].isna()].mean())"
      ],
      "metadata": {
        "colab": {
          "base_uri": "https://localhost:8080/"
        },
        "id": "a-y4UPyIjWlP",
        "outputId": "ad1f6d0c-ce13-4932-a0c0-5b4ba44821bb"
      },
      "execution_count": null,
      "outputs": [
        {
          "output_type": "stream",
          "name": "stdout",
          "text": [
            "Survived     0.293785\n",
            "Pclass       2.598870\n",
            "Sex          1.299435\n",
            "Age               NaN\n",
            "SibSp        0.564972\n",
            "Parch        0.180791\n",
            "Fare        22.158567\n",
            "Embarked     2.293785\n",
            "dtype: float64\n"
          ]
        }
      ]
    },
    {
      "cell_type": "markdown",
      "source": [
        "Проанализировав Пассажиров с пропусками возраста можно сделать следующие выводы:\n",
        "- Соотношение выживаемости 1 к 3 (выжил/нет)\n",
        "- Социально-экономический статус ближе к 3\n",
        "- Больше мужчин не указывали возраст\n",
        "- Практически не имели родственников на борту\n",
        "- Стоимость билета ниже средней по борту 22.15 против 32.20\n",
        "- Большая часть пассажиров села на борт в портах: Q = Квинстаун, S = Саутгемптон"
      ],
      "metadata": {
        "id": "MPUP_0AVoD0n"
      }
    },
    {
      "cell_type": "markdown",
      "source": [
        "Как мы видим удалять строки с пропусками возрастов негативно скажется на обучении модели.\n",
        "\n",
        "Поэтому попробуем заполнить пропуски средними значения по группам признаков , до тех пор пока не заполним все пропуски"
      ],
      "metadata": {
        "id": "mPUFwJeevt8A"
      }
    },
    {
      "cell_type": "code",
      "source": [
        "# создадим копию фрейма, на случай если наш эксперимент даст плохие результаты\n",
        "df_train1 = df_train.copy()"
      ],
      "metadata": {
        "id": "LTNd5gD0AbS_"
      },
      "execution_count": null,
      "outputs": []
    },
    {
      "cell_type": "code",
      "source": [
        "# Заполняем медианой по группам 'Pclass', 'Sex'\n",
        "df_train1['Age'] = df_train1.groupby(['Pclass', 'Sex'])['Age'].transform(lambda x: x.fillna(x.median()))"
      ],
      "metadata": {
        "id": "Uhs-HT10oDO_"
      },
      "execution_count": null,
      "outputs": []
    },
    {
      "cell_type": "code",
      "source": [
        "# проверяем остались ли еще пустые значения\n",
        "df_train1[df_train1['Age'].isna()]"
      ],
      "metadata": {
        "colab": {
          "base_uri": "https://localhost:8080/",
          "height": 81
        },
        "id": "N1FUdzG-BGmI",
        "outputId": "2f6a3149-9aaf-4a36-c84d-af2423f28a4d"
      },
      "execution_count": null,
      "outputs": [
        {
          "output_type": "execute_result",
          "data": {
            "text/plain": [
              "Empty DataFrame\n",
              "Columns: [Survived, Pclass, Sex, Age, SibSp, Parch, Fare, Embarked]\n",
              "Index: []"
            ],
            "text/html": [
              "\n",
              "  <div id=\"df-f01a1929-a9e7-4e22-ac2a-ac82c4a5eb62\" class=\"colab-df-container\">\n",
              "    <div>\n",
              "<style scoped>\n",
              "    .dataframe tbody tr th:only-of-type {\n",
              "        vertical-align: middle;\n",
              "    }\n",
              "\n",
              "    .dataframe tbody tr th {\n",
              "        vertical-align: top;\n",
              "    }\n",
              "\n",
              "    .dataframe thead th {\n",
              "        text-align: right;\n",
              "    }\n",
              "</style>\n",
              "<table border=\"1\" class=\"dataframe\">\n",
              "  <thead>\n",
              "    <tr style=\"text-align: right;\">\n",
              "      <th></th>\n",
              "      <th>Survived</th>\n",
              "      <th>Pclass</th>\n",
              "      <th>Sex</th>\n",
              "      <th>Age</th>\n",
              "      <th>SibSp</th>\n",
              "      <th>Parch</th>\n",
              "      <th>Fare</th>\n",
              "      <th>Embarked</th>\n",
              "    </tr>\n",
              "    <tr>\n",
              "      <th>PassengerId</th>\n",
              "      <th></th>\n",
              "      <th></th>\n",
              "      <th></th>\n",
              "      <th></th>\n",
              "      <th></th>\n",
              "      <th></th>\n",
              "      <th></th>\n",
              "      <th></th>\n",
              "    </tr>\n",
              "  </thead>\n",
              "  <tbody>\n",
              "  </tbody>\n",
              "</table>\n",
              "</div>\n",
              "    <div class=\"colab-df-buttons\">\n",
              "\n",
              "  <div class=\"colab-df-container\">\n",
              "    <button class=\"colab-df-convert\" onclick=\"convertToInteractive('df-f01a1929-a9e7-4e22-ac2a-ac82c4a5eb62')\"\n",
              "            title=\"Convert this dataframe to an interactive table.\"\n",
              "            style=\"display:none;\">\n",
              "\n",
              "  <svg xmlns=\"http://www.w3.org/2000/svg\" height=\"24px\" viewBox=\"0 -960 960 960\">\n",
              "    <path d=\"M120-120v-720h720v720H120Zm60-500h600v-160H180v160Zm220 220h160v-160H400v160Zm0 220h160v-160H400v160ZM180-400h160v-160H180v160Zm440 0h160v-160H620v160ZM180-180h160v-160H180v160Zm440 0h160v-160H620v160Z\"/>\n",
              "  </svg>\n",
              "    </button>\n",
              "\n",
              "  <style>\n",
              "    .colab-df-container {\n",
              "      display:flex;\n",
              "      gap: 12px;\n",
              "    }\n",
              "\n",
              "    .colab-df-convert {\n",
              "      background-color: #E8F0FE;\n",
              "      border: none;\n",
              "      border-radius: 50%;\n",
              "      cursor: pointer;\n",
              "      display: none;\n",
              "      fill: #1967D2;\n",
              "      height: 32px;\n",
              "      padding: 0 0 0 0;\n",
              "      width: 32px;\n",
              "    }\n",
              "\n",
              "    .colab-df-convert:hover {\n",
              "      background-color: #E2EBFA;\n",
              "      box-shadow: 0px 1px 2px rgba(60, 64, 67, 0.3), 0px 1px 3px 1px rgba(60, 64, 67, 0.15);\n",
              "      fill: #174EA6;\n",
              "    }\n",
              "\n",
              "    .colab-df-buttons div {\n",
              "      margin-bottom: 4px;\n",
              "    }\n",
              "\n",
              "    [theme=dark] .colab-df-convert {\n",
              "      background-color: #3B4455;\n",
              "      fill: #D2E3FC;\n",
              "    }\n",
              "\n",
              "    [theme=dark] .colab-df-convert:hover {\n",
              "      background-color: #434B5C;\n",
              "      box-shadow: 0px 1px 3px 1px rgba(0, 0, 0, 0.15);\n",
              "      filter: drop-shadow(0px 1px 2px rgba(0, 0, 0, 0.3));\n",
              "      fill: #FFFFFF;\n",
              "    }\n",
              "  </style>\n",
              "\n",
              "    <script>\n",
              "      const buttonEl =\n",
              "        document.querySelector('#df-f01a1929-a9e7-4e22-ac2a-ac82c4a5eb62 button.colab-df-convert');\n",
              "      buttonEl.style.display =\n",
              "        google.colab.kernel.accessAllowed ? 'block' : 'none';\n",
              "\n",
              "      async function convertToInteractive(key) {\n",
              "        const element = document.querySelector('#df-f01a1929-a9e7-4e22-ac2a-ac82c4a5eb62');\n",
              "        const dataTable =\n",
              "          await google.colab.kernel.invokeFunction('convertToInteractive',\n",
              "                                                    [key], {});\n",
              "        if (!dataTable) return;\n",
              "\n",
              "        const docLinkHtml = 'Like what you see? Visit the ' +\n",
              "          '<a target=\"_blank\" href=https://colab.research.google.com/notebooks/data_table.ipynb>data table notebook</a>'\n",
              "          + ' to learn more about interactive tables.';\n",
              "        element.innerHTML = '';\n",
              "        dataTable['output_type'] = 'display_data';\n",
              "        await google.colab.output.renderOutput(dataTable, element);\n",
              "        const docLink = document.createElement('div');\n",
              "        docLink.innerHTML = docLinkHtml;\n",
              "        element.appendChild(docLink);\n",
              "      }\n",
              "    </script>\n",
              "  </div>\n",
              "\n",
              "    </div>\n",
              "  </div>\n"
            ],
            "application/vnd.google.colaboratory.intrinsic+json": {
              "type": "dataframe",
              "summary": "{\n  \"name\": \"df_train1[df_train1['Age']\",\n  \"rows\": 0,\n  \"fields\": [\n    {\n      \"column\": \"PassengerId\",\n      \"properties\": {\n        \"dtype\": \"number\",\n        \"std\": null,\n        \"min\": null,\n        \"max\": null,\n        \"num_unique_values\": 0,\n        \"samples\": [],\n        \"semantic_type\": \"\",\n        \"description\": \"\"\n      }\n    },\n    {\n      \"column\": \"Survived\",\n      \"properties\": {\n        \"dtype\": \"number\",\n        \"std\": null,\n        \"min\": null,\n        \"max\": null,\n        \"num_unique_values\": 0,\n        \"samples\": [],\n        \"semantic_type\": \"\",\n        \"description\": \"\"\n      }\n    },\n    {\n      \"column\": \"Pclass\",\n      \"properties\": {\n        \"dtype\": \"number\",\n        \"std\": null,\n        \"min\": null,\n        \"max\": null,\n        \"num_unique_values\": 0,\n        \"samples\": [],\n        \"semantic_type\": \"\",\n        \"description\": \"\"\n      }\n    },\n    {\n      \"column\": \"Sex\",\n      \"properties\": {\n        \"dtype\": \"number\",\n        \"std\": null,\n        \"min\": null,\n        \"max\": null,\n        \"num_unique_values\": 0,\n        \"samples\": [],\n        \"semantic_type\": \"\",\n        \"description\": \"\"\n      }\n    },\n    {\n      \"column\": \"Age\",\n      \"properties\": {\n        \"dtype\": \"number\",\n        \"std\": null,\n        \"min\": null,\n        \"max\": null,\n        \"num_unique_values\": 0,\n        \"samples\": [],\n        \"semantic_type\": \"\",\n        \"description\": \"\"\n      }\n    },\n    {\n      \"column\": \"SibSp\",\n      \"properties\": {\n        \"dtype\": \"number\",\n        \"std\": null,\n        \"min\": null,\n        \"max\": null,\n        \"num_unique_values\": 0,\n        \"samples\": [],\n        \"semantic_type\": \"\",\n        \"description\": \"\"\n      }\n    },\n    {\n      \"column\": \"Parch\",\n      \"properties\": {\n        \"dtype\": \"number\",\n        \"std\": null,\n        \"min\": null,\n        \"max\": null,\n        \"num_unique_values\": 0,\n        \"samples\": [],\n        \"semantic_type\": \"\",\n        \"description\": \"\"\n      }\n    },\n    {\n      \"column\": \"Fare\",\n      \"properties\": {\n        \"dtype\": \"number\",\n        \"std\": null,\n        \"min\": null,\n        \"max\": null,\n        \"num_unique_values\": 0,\n        \"samples\": [],\n        \"semantic_type\": \"\",\n        \"description\": \"\"\n      }\n    },\n    {\n      \"column\": \"Embarked\",\n      \"properties\": {\n        \"dtype\": \"number\",\n        \"std\": null,\n        \"min\": null,\n        \"max\": null,\n        \"num_unique_values\": 0,\n        \"samples\": [],\n        \"semantic_type\": \"\",\n        \"description\": \"\"\n      }\n    }\n  ]\n}"
            }
          },
          "metadata": {},
          "execution_count": 393
        }
      ]
    },
    {
      "cell_type": "code",
      "source": [
        "df_train1.head(900)"
      ],
      "metadata": {
        "colab": {
          "base_uri": "https://localhost:8080/",
          "height": 455
        },
        "collapsed": true,
        "id": "JrN8gdZo_-oB",
        "outputId": "e6bd6692-c498-4d2b-ad5f-7b45738abb59"
      },
      "execution_count": null,
      "outputs": [
        {
          "output_type": "execute_result",
          "data": {
            "text/plain": [
              "             Survived  Pclass  Sex   Age  SibSp  Parch     Fare  Embarked\n",
              "PassengerId                                                              \n",
              "1                   0       3    1  22.0      1      0   7.2500         3\n",
              "2                   1       1    2  38.0      1      0  71.2833         1\n",
              "3                   1       3    2  26.0      0      0   7.9250         3\n",
              "4                   1       1    2  35.0      1      0  53.1000         3\n",
              "5                   0       3    1  35.0      0      0   8.0500         3\n",
              "...               ...     ...  ...   ...    ...    ...      ...       ...\n",
              "887                 0       2    1  27.0      0      0  13.0000         3\n",
              "888                 1       1    2  19.0      0      0  30.0000         3\n",
              "889                 0       3    2  21.5      1      2  23.4500         3\n",
              "890                 1       1    1  26.0      0      0  30.0000         1\n",
              "891                 0       3    1  32.0      0      0   7.7500         2\n",
              "\n",
              "[891 rows x 8 columns]"
            ],
            "text/html": [
              "\n",
              "  <div id=\"df-97a6b79f-ba34-4abf-827e-0bece5e4b0f6\" class=\"colab-df-container\">\n",
              "    <div>\n",
              "<style scoped>\n",
              "    .dataframe tbody tr th:only-of-type {\n",
              "        vertical-align: middle;\n",
              "    }\n",
              "\n",
              "    .dataframe tbody tr th {\n",
              "        vertical-align: top;\n",
              "    }\n",
              "\n",
              "    .dataframe thead th {\n",
              "        text-align: right;\n",
              "    }\n",
              "</style>\n",
              "<table border=\"1\" class=\"dataframe\">\n",
              "  <thead>\n",
              "    <tr style=\"text-align: right;\">\n",
              "      <th></th>\n",
              "      <th>Survived</th>\n",
              "      <th>Pclass</th>\n",
              "      <th>Sex</th>\n",
              "      <th>Age</th>\n",
              "      <th>SibSp</th>\n",
              "      <th>Parch</th>\n",
              "      <th>Fare</th>\n",
              "      <th>Embarked</th>\n",
              "    </tr>\n",
              "    <tr>\n",
              "      <th>PassengerId</th>\n",
              "      <th></th>\n",
              "      <th></th>\n",
              "      <th></th>\n",
              "      <th></th>\n",
              "      <th></th>\n",
              "      <th></th>\n",
              "      <th></th>\n",
              "      <th></th>\n",
              "    </tr>\n",
              "  </thead>\n",
              "  <tbody>\n",
              "    <tr>\n",
              "      <th>1</th>\n",
              "      <td>0</td>\n",
              "      <td>3</td>\n",
              "      <td>1</td>\n",
              "      <td>22.0</td>\n",
              "      <td>1</td>\n",
              "      <td>0</td>\n",
              "      <td>7.2500</td>\n",
              "      <td>3</td>\n",
              "    </tr>\n",
              "    <tr>\n",
              "      <th>2</th>\n",
              "      <td>1</td>\n",
              "      <td>1</td>\n",
              "      <td>2</td>\n",
              "      <td>38.0</td>\n",
              "      <td>1</td>\n",
              "      <td>0</td>\n",
              "      <td>71.2833</td>\n",
              "      <td>1</td>\n",
              "    </tr>\n",
              "    <tr>\n",
              "      <th>3</th>\n",
              "      <td>1</td>\n",
              "      <td>3</td>\n",
              "      <td>2</td>\n",
              "      <td>26.0</td>\n",
              "      <td>0</td>\n",
              "      <td>0</td>\n",
              "      <td>7.9250</td>\n",
              "      <td>3</td>\n",
              "    </tr>\n",
              "    <tr>\n",
              "      <th>4</th>\n",
              "      <td>1</td>\n",
              "      <td>1</td>\n",
              "      <td>2</td>\n",
              "      <td>35.0</td>\n",
              "      <td>1</td>\n",
              "      <td>0</td>\n",
              "      <td>53.1000</td>\n",
              "      <td>3</td>\n",
              "    </tr>\n",
              "    <tr>\n",
              "      <th>5</th>\n",
              "      <td>0</td>\n",
              "      <td>3</td>\n",
              "      <td>1</td>\n",
              "      <td>35.0</td>\n",
              "      <td>0</td>\n",
              "      <td>0</td>\n",
              "      <td>8.0500</td>\n",
              "      <td>3</td>\n",
              "    </tr>\n",
              "    <tr>\n",
              "      <th>...</th>\n",
              "      <td>...</td>\n",
              "      <td>...</td>\n",
              "      <td>...</td>\n",
              "      <td>...</td>\n",
              "      <td>...</td>\n",
              "      <td>...</td>\n",
              "      <td>...</td>\n",
              "      <td>...</td>\n",
              "    </tr>\n",
              "    <tr>\n",
              "      <th>887</th>\n",
              "      <td>0</td>\n",
              "      <td>2</td>\n",
              "      <td>1</td>\n",
              "      <td>27.0</td>\n",
              "      <td>0</td>\n",
              "      <td>0</td>\n",
              "      <td>13.0000</td>\n",
              "      <td>3</td>\n",
              "    </tr>\n",
              "    <tr>\n",
              "      <th>888</th>\n",
              "      <td>1</td>\n",
              "      <td>1</td>\n",
              "      <td>2</td>\n",
              "      <td>19.0</td>\n",
              "      <td>0</td>\n",
              "      <td>0</td>\n",
              "      <td>30.0000</td>\n",
              "      <td>3</td>\n",
              "    </tr>\n",
              "    <tr>\n",
              "      <th>889</th>\n",
              "      <td>0</td>\n",
              "      <td>3</td>\n",
              "      <td>2</td>\n",
              "      <td>21.5</td>\n",
              "      <td>1</td>\n",
              "      <td>2</td>\n",
              "      <td>23.4500</td>\n",
              "      <td>3</td>\n",
              "    </tr>\n",
              "    <tr>\n",
              "      <th>890</th>\n",
              "      <td>1</td>\n",
              "      <td>1</td>\n",
              "      <td>1</td>\n",
              "      <td>26.0</td>\n",
              "      <td>0</td>\n",
              "      <td>0</td>\n",
              "      <td>30.0000</td>\n",
              "      <td>1</td>\n",
              "    </tr>\n",
              "    <tr>\n",
              "      <th>891</th>\n",
              "      <td>0</td>\n",
              "      <td>3</td>\n",
              "      <td>1</td>\n",
              "      <td>32.0</td>\n",
              "      <td>0</td>\n",
              "      <td>0</td>\n",
              "      <td>7.7500</td>\n",
              "      <td>2</td>\n",
              "    </tr>\n",
              "  </tbody>\n",
              "</table>\n",
              "<p>891 rows × 8 columns</p>\n",
              "</div>\n",
              "    <div class=\"colab-df-buttons\">\n",
              "\n",
              "  <div class=\"colab-df-container\">\n",
              "    <button class=\"colab-df-convert\" onclick=\"convertToInteractive('df-97a6b79f-ba34-4abf-827e-0bece5e4b0f6')\"\n",
              "            title=\"Convert this dataframe to an interactive table.\"\n",
              "            style=\"display:none;\">\n",
              "\n",
              "  <svg xmlns=\"http://www.w3.org/2000/svg\" height=\"24px\" viewBox=\"0 -960 960 960\">\n",
              "    <path d=\"M120-120v-720h720v720H120Zm60-500h600v-160H180v160Zm220 220h160v-160H400v160Zm0 220h160v-160H400v160ZM180-400h160v-160H180v160Zm440 0h160v-160H620v160ZM180-180h160v-160H180v160Zm440 0h160v-160H620v160Z\"/>\n",
              "  </svg>\n",
              "    </button>\n",
              "\n",
              "  <style>\n",
              "    .colab-df-container {\n",
              "      display:flex;\n",
              "      gap: 12px;\n",
              "    }\n",
              "\n",
              "    .colab-df-convert {\n",
              "      background-color: #E8F0FE;\n",
              "      border: none;\n",
              "      border-radius: 50%;\n",
              "      cursor: pointer;\n",
              "      display: none;\n",
              "      fill: #1967D2;\n",
              "      height: 32px;\n",
              "      padding: 0 0 0 0;\n",
              "      width: 32px;\n",
              "    }\n",
              "\n",
              "    .colab-df-convert:hover {\n",
              "      background-color: #E2EBFA;\n",
              "      box-shadow: 0px 1px 2px rgba(60, 64, 67, 0.3), 0px 1px 3px 1px rgba(60, 64, 67, 0.15);\n",
              "      fill: #174EA6;\n",
              "    }\n",
              "\n",
              "    .colab-df-buttons div {\n",
              "      margin-bottom: 4px;\n",
              "    }\n",
              "\n",
              "    [theme=dark] .colab-df-convert {\n",
              "      background-color: #3B4455;\n",
              "      fill: #D2E3FC;\n",
              "    }\n",
              "\n",
              "    [theme=dark] .colab-df-convert:hover {\n",
              "      background-color: #434B5C;\n",
              "      box-shadow: 0px 1px 3px 1px rgba(0, 0, 0, 0.15);\n",
              "      filter: drop-shadow(0px 1px 2px rgba(0, 0, 0, 0.3));\n",
              "      fill: #FFFFFF;\n",
              "    }\n",
              "  </style>\n",
              "\n",
              "    <script>\n",
              "      const buttonEl =\n",
              "        document.querySelector('#df-97a6b79f-ba34-4abf-827e-0bece5e4b0f6 button.colab-df-convert');\n",
              "      buttonEl.style.display =\n",
              "        google.colab.kernel.accessAllowed ? 'block' : 'none';\n",
              "\n",
              "      async function convertToInteractive(key) {\n",
              "        const element = document.querySelector('#df-97a6b79f-ba34-4abf-827e-0bece5e4b0f6');\n",
              "        const dataTable =\n",
              "          await google.colab.kernel.invokeFunction('convertToInteractive',\n",
              "                                                    [key], {});\n",
              "        if (!dataTable) return;\n",
              "\n",
              "        const docLinkHtml = 'Like what you see? Visit the ' +\n",
              "          '<a target=\"_blank\" href=https://colab.research.google.com/notebooks/data_table.ipynb>data table notebook</a>'\n",
              "          + ' to learn more about interactive tables.';\n",
              "        element.innerHTML = '';\n",
              "        dataTable['output_type'] = 'display_data';\n",
              "        await google.colab.output.renderOutput(dataTable, element);\n",
              "        const docLink = document.createElement('div');\n",
              "        docLink.innerHTML = docLinkHtml;\n",
              "        element.appendChild(docLink);\n",
              "      }\n",
              "    </script>\n",
              "  </div>\n",
              "\n",
              "\n",
              "    <div id=\"df-e6372dda-6714-417d-84a5-ec0b42cc6cc5\">\n",
              "      <button class=\"colab-df-quickchart\" onclick=\"quickchart('df-e6372dda-6714-417d-84a5-ec0b42cc6cc5')\"\n",
              "                title=\"Suggest charts\"\n",
              "                style=\"display:none;\">\n",
              "\n",
              "<svg xmlns=\"http://www.w3.org/2000/svg\" height=\"24px\"viewBox=\"0 0 24 24\"\n",
              "     width=\"24px\">\n",
              "    <g>\n",
              "        <path d=\"M19 3H5c-1.1 0-2 .9-2 2v14c0 1.1.9 2 2 2h14c1.1 0 2-.9 2-2V5c0-1.1-.9-2-2-2zM9 17H7v-7h2v7zm4 0h-2V7h2v10zm4 0h-2v-4h2v4z\"/>\n",
              "    </g>\n",
              "</svg>\n",
              "      </button>\n",
              "\n",
              "<style>\n",
              "  .colab-df-quickchart {\n",
              "      --bg-color: #E8F0FE;\n",
              "      --fill-color: #1967D2;\n",
              "      --hover-bg-color: #E2EBFA;\n",
              "      --hover-fill-color: #174EA6;\n",
              "      --disabled-fill-color: #AAA;\n",
              "      --disabled-bg-color: #DDD;\n",
              "  }\n",
              "\n",
              "  [theme=dark] .colab-df-quickchart {\n",
              "      --bg-color: #3B4455;\n",
              "      --fill-color: #D2E3FC;\n",
              "      --hover-bg-color: #434B5C;\n",
              "      --hover-fill-color: #FFFFFF;\n",
              "      --disabled-bg-color: #3B4455;\n",
              "      --disabled-fill-color: #666;\n",
              "  }\n",
              "\n",
              "  .colab-df-quickchart {\n",
              "    background-color: var(--bg-color);\n",
              "    border: none;\n",
              "    border-radius: 50%;\n",
              "    cursor: pointer;\n",
              "    display: none;\n",
              "    fill: var(--fill-color);\n",
              "    height: 32px;\n",
              "    padding: 0;\n",
              "    width: 32px;\n",
              "  }\n",
              "\n",
              "  .colab-df-quickchart:hover {\n",
              "    background-color: var(--hover-bg-color);\n",
              "    box-shadow: 0 1px 2px rgba(60, 64, 67, 0.3), 0 1px 3px 1px rgba(60, 64, 67, 0.15);\n",
              "    fill: var(--button-hover-fill-color);\n",
              "  }\n",
              "\n",
              "  .colab-df-quickchart-complete:disabled,\n",
              "  .colab-df-quickchart-complete:disabled:hover {\n",
              "    background-color: var(--disabled-bg-color);\n",
              "    fill: var(--disabled-fill-color);\n",
              "    box-shadow: none;\n",
              "  }\n",
              "\n",
              "  .colab-df-spinner {\n",
              "    border: 2px solid var(--fill-color);\n",
              "    border-color: transparent;\n",
              "    border-bottom-color: var(--fill-color);\n",
              "    animation:\n",
              "      spin 1s steps(1) infinite;\n",
              "  }\n",
              "\n",
              "  @keyframes spin {\n",
              "    0% {\n",
              "      border-color: transparent;\n",
              "      border-bottom-color: var(--fill-color);\n",
              "      border-left-color: var(--fill-color);\n",
              "    }\n",
              "    20% {\n",
              "      border-color: transparent;\n",
              "      border-left-color: var(--fill-color);\n",
              "      border-top-color: var(--fill-color);\n",
              "    }\n",
              "    30% {\n",
              "      border-color: transparent;\n",
              "      border-left-color: var(--fill-color);\n",
              "      border-top-color: var(--fill-color);\n",
              "      border-right-color: var(--fill-color);\n",
              "    }\n",
              "    40% {\n",
              "      border-color: transparent;\n",
              "      border-right-color: var(--fill-color);\n",
              "      border-top-color: var(--fill-color);\n",
              "    }\n",
              "    60% {\n",
              "      border-color: transparent;\n",
              "      border-right-color: var(--fill-color);\n",
              "    }\n",
              "    80% {\n",
              "      border-color: transparent;\n",
              "      border-right-color: var(--fill-color);\n",
              "      border-bottom-color: var(--fill-color);\n",
              "    }\n",
              "    90% {\n",
              "      border-color: transparent;\n",
              "      border-bottom-color: var(--fill-color);\n",
              "    }\n",
              "  }\n",
              "</style>\n",
              "\n",
              "      <script>\n",
              "        async function quickchart(key) {\n",
              "          const quickchartButtonEl =\n",
              "            document.querySelector('#' + key + ' button');\n",
              "          quickchartButtonEl.disabled = true;  // To prevent multiple clicks.\n",
              "          quickchartButtonEl.classList.add('colab-df-spinner');\n",
              "          try {\n",
              "            const charts = await google.colab.kernel.invokeFunction(\n",
              "                'suggestCharts', [key], {});\n",
              "          } catch (error) {\n",
              "            console.error('Error during call to suggestCharts:', error);\n",
              "          }\n",
              "          quickchartButtonEl.classList.remove('colab-df-spinner');\n",
              "          quickchartButtonEl.classList.add('colab-df-quickchart-complete');\n",
              "        }\n",
              "        (() => {\n",
              "          let quickchartButtonEl =\n",
              "            document.querySelector('#df-e6372dda-6714-417d-84a5-ec0b42cc6cc5 button');\n",
              "          quickchartButtonEl.style.display =\n",
              "            google.colab.kernel.accessAllowed ? 'block' : 'none';\n",
              "        })();\n",
              "      </script>\n",
              "    </div>\n",
              "    </div>\n",
              "  </div>\n"
            ],
            "application/vnd.google.colaboratory.intrinsic+json": {
              "type": "dataframe",
              "variable_name": "df_train1",
              "summary": "{\n  \"name\": \"df_train1\",\n  \"rows\": 891,\n  \"fields\": [\n    {\n      \"column\": \"PassengerId\",\n      \"properties\": {\n        \"dtype\": \"number\",\n        \"std\": 257,\n        \"min\": 1,\n        \"max\": 891,\n        \"num_unique_values\": 891,\n        \"samples\": [\n          710,\n          440,\n          841\n        ],\n        \"semantic_type\": \"\",\n        \"description\": \"\"\n      }\n    },\n    {\n      \"column\": \"Survived\",\n      \"properties\": {\n        \"dtype\": \"number\",\n        \"std\": 0,\n        \"min\": 0,\n        \"max\": 1,\n        \"num_unique_values\": 2,\n        \"samples\": [\n          1,\n          0\n        ],\n        \"semantic_type\": \"\",\n        \"description\": \"\"\n      }\n    },\n    {\n      \"column\": \"Pclass\",\n      \"properties\": {\n        \"dtype\": \"number\",\n        \"std\": 0,\n        \"min\": 1,\n        \"max\": 3,\n        \"num_unique_values\": 3,\n        \"samples\": [\n          3,\n          1\n        ],\n        \"semantic_type\": \"\",\n        \"description\": \"\"\n      }\n    },\n    {\n      \"column\": \"Sex\",\n      \"properties\": {\n        \"dtype\": \"number\",\n        \"std\": 0,\n        \"min\": 1,\n        \"max\": 2,\n        \"num_unique_values\": 2,\n        \"samples\": [\n          2,\n          1\n        ],\n        \"semantic_type\": \"\",\n        \"description\": \"\"\n      }\n    },\n    {\n      \"column\": \"Age\",\n      \"properties\": {\n        \"dtype\": \"number\",\n        \"std\": 13.304424074688153,\n        \"min\": 0.42,\n        \"max\": 80.0,\n        \"num_unique_values\": 89,\n        \"samples\": [\n          59.0,\n          36.5\n        ],\n        \"semantic_type\": \"\",\n        \"description\": \"\"\n      }\n    },\n    {\n      \"column\": \"SibSp\",\n      \"properties\": {\n        \"dtype\": \"number\",\n        \"std\": 1,\n        \"min\": 0,\n        \"max\": 8,\n        \"num_unique_values\": 7,\n        \"samples\": [\n          1,\n          0\n        ],\n        \"semantic_type\": \"\",\n        \"description\": \"\"\n      }\n    },\n    {\n      \"column\": \"Parch\",\n      \"properties\": {\n        \"dtype\": \"number\",\n        \"std\": 0,\n        \"min\": 0,\n        \"max\": 6,\n        \"num_unique_values\": 7,\n        \"samples\": [\n          0,\n          1\n        ],\n        \"semantic_type\": \"\",\n        \"description\": \"\"\n      }\n    },\n    {\n      \"column\": \"Fare\",\n      \"properties\": {\n        \"dtype\": \"number\",\n        \"std\": 49.693428597180905,\n        \"min\": 0.0,\n        \"max\": 512.3292,\n        \"num_unique_values\": 248,\n        \"samples\": [\n          11.2417,\n          51.8625\n        ],\n        \"semantic_type\": \"\",\n        \"description\": \"\"\n      }\n    },\n    {\n      \"column\": \"Embarked\",\n      \"properties\": {\n        \"dtype\": \"number\",\n        \"std\": 0,\n        \"min\": 0,\n        \"max\": 3,\n        \"num_unique_values\": 4,\n        \"samples\": [\n          1,\n          0\n        ],\n        \"semantic_type\": \"\",\n        \"description\": \"\"\n      }\n    }\n  ]\n}"
            }
          },
          "metadata": {},
          "execution_count": 394
        }
      ]
    },
    {
      "cell_type": "code",
      "source": [
        "df_train1.info()"
      ],
      "metadata": {
        "colab": {
          "base_uri": "https://localhost:8080/"
        },
        "id": "XlMLdqkbrpwT",
        "outputId": "35c77a2b-1da9-4c96-b311-bbce5ff6c410"
      },
      "execution_count": null,
      "outputs": [
        {
          "output_type": "stream",
          "name": "stdout",
          "text": [
            "<class 'pandas.core.frame.DataFrame'>\n",
            "Index: 891 entries, 1 to 891\n",
            "Data columns (total 8 columns):\n",
            " #   Column    Non-Null Count  Dtype  \n",
            "---  ------    --------------  -----  \n",
            " 0   Survived  891 non-null    int64  \n",
            " 1   Pclass    891 non-null    int64  \n",
            " 2   Sex       891 non-null    int64  \n",
            " 3   Age       891 non-null    float64\n",
            " 4   SibSp     891 non-null    int64  \n",
            " 5   Parch     891 non-null    int64  \n",
            " 6   Fare      891 non-null    float64\n",
            " 7   Embarked  891 non-null    int64  \n",
            "dtypes: float64(2), int64(6)\n",
            "memory usage: 62.6 KB\n"
          ]
        }
      ]
    },
    {
      "cell_type": "markdown",
      "source": [
        "Подготовим тестовые датасеты"
      ],
      "metadata": {
        "id": "8WYY8e4kx8aa"
      }
    },
    {
      "cell_type": "code",
      "source": [
        "df_test.info()"
      ],
      "metadata": {
        "colab": {
          "base_uri": "https://localhost:8080/"
        },
        "id": "MCllwAJ6gi2h",
        "outputId": "c0e6680f-fa4a-4bcc-f137-826d49bb053a"
      },
      "execution_count": null,
      "outputs": [
        {
          "output_type": "stream",
          "name": "stdout",
          "text": [
            "<class 'pandas.core.frame.DataFrame'>\n",
            "RangeIndex: 418 entries, 0 to 417\n",
            "Data columns (total 11 columns):\n",
            " #   Column       Non-Null Count  Dtype  \n",
            "---  ------       --------------  -----  \n",
            " 0   PassengerId  418 non-null    int64  \n",
            " 1   Pclass       418 non-null    int64  \n",
            " 2   Name         418 non-null    object \n",
            " 3   Sex          418 non-null    object \n",
            " 4   Age          332 non-null    float64\n",
            " 5   SibSp        418 non-null    int64  \n",
            " 6   Parch        418 non-null    int64  \n",
            " 7   Ticket       418 non-null    object \n",
            " 8   Fare         417 non-null    float64\n",
            " 9   Cabin        91 non-null     object \n",
            " 10  Embarked     418 non-null    object \n",
            "dtypes: float64(2), int64(4), object(5)\n",
            "memory usage: 36.1+ KB\n"
          ]
        }
      ]
    },
    {
      "cell_type": "code",
      "source": [
        "df_gs.info()"
      ],
      "metadata": {
        "colab": {
          "base_uri": "https://localhost:8080/"
        },
        "id": "CUdzFGqYg9T5",
        "outputId": "1669ca4a-8ff5-48d3-ff36-1e680ed8bccf"
      },
      "execution_count": null,
      "outputs": [
        {
          "output_type": "stream",
          "name": "stdout",
          "text": [
            "<class 'pandas.core.frame.DataFrame'>\n",
            "RangeIndex: 418 entries, 0 to 417\n",
            "Data columns (total 2 columns):\n",
            " #   Column       Non-Null Count  Dtype\n",
            "---  ------       --------------  -----\n",
            " 0   PassengerId  418 non-null    int64\n",
            " 1   Survived     418 non-null    int64\n",
            "dtypes: int64(2)\n",
            "memory usage: 6.7 KB\n"
          ]
        }
      ]
    },
    {
      "cell_type": "code",
      "source": [
        "#Сделаем столбцы PassengerId индексным\n",
        "df_test.set_index('PassengerId', inplace=True)\n",
        "df_gs.set_index('PassengerId', inplace=True)"
      ],
      "metadata": {
        "collapsed": true,
        "id": "cvNjoaGWzqVY"
      },
      "execution_count": null,
      "outputs": []
    },
    {
      "cell_type": "code",
      "source": [
        "# Склеим тестовые признаки и классы\n",
        "df_test1 = df_test.join(df_gs, how ='left')"
      ],
      "metadata": {
        "id": "C_nycftzyy7t"
      },
      "execution_count": null,
      "outputs": []
    },
    {
      "cell_type": "markdown",
      "source": [
        "Выполним все теже преобразования для тестовой быборки, что и для обучающей"
      ],
      "metadata": {
        "id": "BKYxkv5D0Vo2"
      }
    },
    {
      "cell_type": "code",
      "source": [
        "#Заменяем данные в ячейках на числовые с преобразованием типа данных на int и заменой\n",
        "df_test1['Sex'] = df_test1['Sex'].replace({'male': 1, 'female': 2}).astype(int)\n",
        "df_test1['Embarked'] = pd.to_numeric(df_test1['Embarked'].replace({'C': 1, 'Q': 2, 'S': 3}), errors='coerce').fillna(0).astype(int)\n",
        "\n",
        "# Удалим столбцы\n",
        "df_test1 = df_test1.drop(['Name','Ticket','Cabin'], axis=1)"
      ],
      "metadata": {
        "id": "upFVztLo0bq-"
      },
      "execution_count": null,
      "outputs": []
    },
    {
      "cell_type": "code",
      "source": [
        "df_test1.info()"
      ],
      "metadata": {
        "colab": {
          "base_uri": "https://localhost:8080/"
        },
        "id": "P3GPWeSHz861",
        "outputId": "b5a2aba2-0160-4cd9-aa27-14df29dda2ee"
      },
      "execution_count": null,
      "outputs": [
        {
          "output_type": "stream",
          "name": "stdout",
          "text": [
            "<class 'pandas.core.frame.DataFrame'>\n",
            "Index: 418 entries, 892 to 1309\n",
            "Data columns (total 8 columns):\n",
            " #   Column    Non-Null Count  Dtype  \n",
            "---  ------    --------------  -----  \n",
            " 0   Pclass    418 non-null    int64  \n",
            " 1   Sex       418 non-null    int64  \n",
            " 2   Age       332 non-null    float64\n",
            " 3   SibSp     418 non-null    int64  \n",
            " 4   Parch     418 non-null    int64  \n",
            " 5   Fare      417 non-null    float64\n",
            " 6   Embarked  418 non-null    int64  \n",
            " 7   Survived  418 non-null    int64  \n",
            "dtypes: float64(2), int64(6)\n",
            "memory usage: 29.4 KB\n"
          ]
        }
      ]
    },
    {
      "cell_type": "code",
      "source": [
        "# заменим единственный пропуск стоимости билета на 0\n",
        "df_test1['Fare'] = df_test1['Fare'].fillna(0)"
      ],
      "metadata": {
        "id": "FVrpuyo08bQ9"
      },
      "execution_count": null,
      "outputs": []
    },
    {
      "cell_type": "code",
      "source": [
        "df_test1.info()"
      ],
      "metadata": {
        "colab": {
          "base_uri": "https://localhost:8080/"
        },
        "id": "g-tWS1Lc1EQ4",
        "outputId": "a7cbe0c9-e69e-4bd7-a32e-c1b5014b7492"
      },
      "execution_count": null,
      "outputs": [
        {
          "output_type": "stream",
          "name": "stdout",
          "text": [
            "<class 'pandas.core.frame.DataFrame'>\n",
            "Index: 418 entries, 892 to 1309\n",
            "Data columns (total 8 columns):\n",
            " #   Column    Non-Null Count  Dtype  \n",
            "---  ------    --------------  -----  \n",
            " 0   Pclass    418 non-null    int64  \n",
            " 1   Sex       418 non-null    int64  \n",
            " 2   Age       332 non-null    float64\n",
            " 3   SibSp     418 non-null    int64  \n",
            " 4   Parch     418 non-null    int64  \n",
            " 5   Fare      418 non-null    float64\n",
            " 6   Embarked  418 non-null    int64  \n",
            " 7   Survived  418 non-null    int64  \n",
            "dtypes: float64(2), int64(6)\n",
            "memory usage: 29.4 KB\n"
          ]
        }
      ]
    },
    {
      "cell_type": "code",
      "source": [
        "# создадим копии фрейма, на случай если наш эксперимент даст плохие результаты\n",
        "df_test2 = df_test1.copy()\n",
        "df_test3 = df_test1.copy()"
      ],
      "metadata": {
        "id": "QEtKk0WR-nhS"
      },
      "execution_count": null,
      "outputs": []
    },
    {
      "cell_type": "code",
      "source": [
        "# Заполняем медианой по группам 'Pclass', 'Sex'\n",
        "df_test2['Age'] = df_test2.groupby(['Pclass', 'Sex'])['Age'].transform(lambda x: x.fillna(x.median()))"
      ],
      "metadata": {
        "id": "H4NWSD2S1Aa4"
      },
      "execution_count": null,
      "outputs": []
    },
    {
      "cell_type": "code",
      "source": [
        "df_test2.info()"
      ],
      "metadata": {
        "colab": {
          "base_uri": "https://localhost:8080/"
        },
        "id": "0MAnX9U82NJT",
        "outputId": "0c76317c-f38b-4a93-f5ea-e118ea459b15"
      },
      "execution_count": null,
      "outputs": [
        {
          "output_type": "stream",
          "name": "stdout",
          "text": [
            "<class 'pandas.core.frame.DataFrame'>\n",
            "Index: 418 entries, 892 to 1309\n",
            "Data columns (total 8 columns):\n",
            " #   Column    Non-Null Count  Dtype  \n",
            "---  ------    --------------  -----  \n",
            " 0   Pclass    418 non-null    int64  \n",
            " 1   Sex       418 non-null    int64  \n",
            " 2   Age       418 non-null    float64\n",
            " 3   SibSp     418 non-null    int64  \n",
            " 4   Parch     418 non-null    int64  \n",
            " 5   Fare      418 non-null    float64\n",
            " 6   Embarked  418 non-null    int64  \n",
            " 7   Survived  418 non-null    int64  \n",
            "dtypes: float64(2), int64(6)\n",
            "memory usage: 29.4 KB\n"
          ]
        }
      ]
    },
    {
      "cell_type": "code",
      "source": [
        "# выведем строки со значением nan если имеются\n",
        "print(df_test2[df_test2.isna().any(axis=1)])"
      ],
      "metadata": {
        "colab": {
          "base_uri": "https://localhost:8080/"
        },
        "id": "JdO8CXamfiHo",
        "outputId": "a520df17-952b-42b3-e9c0-6e691ac6d12a"
      },
      "execution_count": null,
      "outputs": [
        {
          "output_type": "stream",
          "name": "stdout",
          "text": [
            "Empty DataFrame\n",
            "Columns: [Pclass, Sex, Age, SibSp, Parch, Fare, Embarked, Survived]\n",
            "Index: []\n"
          ]
        }
      ]
    },
    {
      "cell_type": "code",
      "source": [
        "# этом датасете удалим все записи с пропусками возраста\n",
        "df_test3 = df_test3.dropna()\n",
        "df_test3.info()"
      ],
      "metadata": {
        "colab": {
          "base_uri": "https://localhost:8080/"
        },
        "id": "Ux4hGZb0T4Wd",
        "outputId": "7cb699c4-8766-4d63-e0f9-ae367a332cba"
      },
      "execution_count": null,
      "outputs": [
        {
          "output_type": "stream",
          "name": "stdout",
          "text": [
            "<class 'pandas.core.frame.DataFrame'>\n",
            "Index: 332 entries, 892 to 1307\n",
            "Data columns (total 8 columns):\n",
            " #   Column    Non-Null Count  Dtype  \n",
            "---  ------    --------------  -----  \n",
            " 0   Pclass    332 non-null    int64  \n",
            " 1   Sex       332 non-null    int64  \n",
            " 2   Age       332 non-null    float64\n",
            " 3   SibSp     332 non-null    int64  \n",
            " 4   Parch     332 non-null    int64  \n",
            " 5   Fare      332 non-null    float64\n",
            " 6   Embarked  332 non-null    int64  \n",
            " 7   Survived  332 non-null    int64  \n",
            "dtypes: float64(2), int64(6)\n",
            "memory usage: 23.3 KB\n"
          ]
        }
      ]
    },
    {
      "cell_type": "code",
      "source": [
        "print(df_test3[df_test3.isna().any(axis=1)])"
      ],
      "metadata": {
        "colab": {
          "base_uri": "https://localhost:8080/"
        },
        "id": "5TB-eNx3g1z3",
        "outputId": "6e2d2bf3-4071-4d0f-d7ba-c6561e0a7c80"
      },
      "execution_count": null,
      "outputs": [
        {
          "output_type": "stream",
          "name": "stdout",
          "text": [
            "Empty DataFrame\n",
            "Columns: [Pclass, Sex, Age, SibSp, Parch, Fare, Embarked, Survived]\n",
            "Index: []\n"
          ]
        }
      ]
    },
    {
      "cell_type": "markdown",
      "source": [
        "Подготовим наши признаки и классы для тестирования моделей"
      ],
      "metadata": {
        "id": "P-Fa-3zOD-He"
      }
    },
    {
      "cell_type": "code",
      "source": [
        "# Создадим переменную признаков для обучения моделей\n",
        "X_train = df_train1.drop(columns=['Survived'])\n",
        "# Создадим переменную классов для обучения моделей\n",
        "y_train = df_train1.Survived"
      ],
      "metadata": {
        "id": "7rlDx8J-g8ko"
      },
      "execution_count": null,
      "outputs": []
    },
    {
      "cell_type": "code",
      "source": [
        "# Создадим переменную признаков для тестирования моделей\n",
        "X_test = df_test2.drop(columns=['Survived'])\n",
        "# Создадим переменную классов для тестирования моделей\n",
        "y_test = df_test2.Survived"
      ],
      "metadata": {
        "id": "bqUMqIAEEFig"
      },
      "execution_count": null,
      "outputs": []
    },
    {
      "cell_type": "markdown",
      "source": [
        "Также, для лучшей сходимости некоторых моделей, преобразуем наши числовые признаки в значения в интервале **от 0 до 1** с помощью `MinMaxScaler` так как значения признаков у нас положительные"
      ],
      "metadata": {
        "id": "l-tOK57XqkhN"
      }
    },
    {
      "cell_type": "code",
      "source": [
        "from sklearn.preprocessing import MinMaxScaler # будем использовать библиотеку для преобразования значения признаков с целью лучшей сходимости моделей"
      ],
      "metadata": {
        "id": "AF1jo3N4JPYb"
      },
      "execution_count": null,
      "outputs": []
    },
    {
      "cell_type": "code",
      "source": [
        "# инициализируем MinMaxScaler, чтобы все значения признаков были представлены вектором, со значениями в диапозоне от 0 до 1 (так как все значения признаков положительные)\n",
        "scaler = MinMaxScaler((0,1))\n",
        "# применяем приобразование от -1 до 1 к нашим данным\n",
        "X_train_1 = scaler.fit_transform(X_train)\n",
        "X_test_1 = scaler.fit_transform(X_test)"
      ],
      "metadata": {
        "id": "c0P-4mEqJR-R"
      },
      "execution_count": null,
      "outputs": []
    },
    {
      "cell_type": "code",
      "source": [
        "# Разобьем наши тренировочные данные на тренировочные и валидационные для настройки гиперпараметров\n",
        "from sklearn.model_selection import train_test_split # создает наборы данных для обучения и тестирования модели\n",
        "X_train_split, X_val_split, y_train_split, y_val_split = train_test_split(X_train_1, y_train, test_size = 0.1, random_state = 2, stratify = y_train)"
      ],
      "metadata": {
        "id": "RroYJjRVF5B5"
      },
      "execution_count": null,
      "outputs": []
    },
    {
      "cell_type": "markdown",
      "source": [
        "После разбивки данных у нас получились следующие наборы:\n",
        "\n",
        "Тренировочный дата сет поделен на тренировочные и валидационные выборки\n",
        "- Тренировочные `X_train_split, y_train_split`\n",
        "- Валидационные `X_val_split, y_val_split`\n",
        "- Тестовые `X_test_1, y_test`\n",
        "Признаки нормализованы в диапозоне **от 0 до 1**\n",
        "\n",
        "Или\n",
        "\n",
        "Тренировочный датасет не поделен\n",
        "- Тренировочные `X_train_1, y_train`\n",
        "- Тестовые `X_test_1, y_test`\n",
        "Признаки нормализованы в диапозоне **от 0 до 1**\n",
        "\n",
        "Или\n",
        "- Тренировочные `X_train, y_train`\n",
        "- Тестовые `X_test_1, y_test`\n",
        "Признаки не нормализованы"
      ],
      "metadata": {
        "id": "sCzvwYrBMTyC"
      }
    },
    {
      "cell_type": "markdown",
      "source": [
        "## 3. Ищем и обучаем наиболее, подходящие модели алгоритмов"
      ],
      "metadata": {
        "id": "kgBzbincrvaY"
      }
    },
    {
      "cell_type": "markdown",
      "source": [
        "Так как наша задача - определить классы выживших, то будем использовать алгоритмы классического машинного обучения, для задач классификации.\n",
        "\n",
        "Настраивая их параметры и получая лучшие результаты, будем сравнивать, какая модель лучше покажет себя в решении поставленной задачи"
      ],
      "metadata": {
        "id": "rwXeEIaguBQt"
      }
    },
    {
      "cell_type": "markdown",
      "source": [
        "1) Логистическая регрессия (Logistic Regression) – простая линейная модель для бинарной классификации."
      ],
      "metadata": {
        "id": "upIMOuB3unX5"
      }
    },
    {
      "cell_type": "code",
      "source": [
        "from sklearn.linear_model import LogisticRegression\n",
        "# Инициализируем модель и настраиваем ее параметры\n",
        "model_LR = LogisticRegression(\n",
        "#     penalty = 'l2', # по умолчанию с 'liblinear'\n",
        "#    dual = True,\n",
        "#     C = 0.5, #\n",
        "#    fit_intercept = ,\n",
        "#    intercept_scaling = ,\n",
        "#    class_weight = ,\n",
        "#    random_state = ,\n",
        "#     solver = 'newton-cg', # сильно повлиял на точность\n",
        "#     max_iter = 100, #\n",
        "#    multi_class = 'ovr',\n",
        "#    verbose = ,\n",
        "#    warm_start = ,\n",
        "#    n_jobs = ,\n",
        "#    l1_ratio = ,\n",
        "    )\n",
        "# Обучаем на подготовленных данных\n",
        "model_LR.fit(X_train_split, y_train_split)\n",
        "# Предсказываем на валидационной выборке\n",
        "y_pred_LR = model_LR.predict(X_val_split)\n",
        "# Определим точность\n",
        "accuracy = accuracy_score(y_val_split, y_pred_LR)\n",
        "print(f'Точность модели с алгоритмом LogisticRegression на валидационной выборке составляет {accuracy*100:.2f}%')\n",
        "# Матрица ошибок\n",
        "cm_LR_1 = confusion_matrix(y_val_split, y_pred_LR)\n",
        "print('Матрица ошибок:\\n', cm_LR)\n",
        "#precision_LR = precision_score(y_val_split, y_pred_LR)\n",
        "#print(f'Точность = {precision_LR*100:.2f}%')\n",
        "#recall_LR = recall_score(y_val_split, y_pred_LR)\n",
        "#print(f'Полнота = {recall_LR*100:.2f}%')\n",
        "#f1_LR = f1_score(y_val_split, y_pred_LR)\n",
        "#print(f'F1-мера = {f1_LR*100:.2f}%')\n",
        "#val_score = model_LR.score(X_val_split, y_val_split)\n",
        "#print(f'     {val_score*100:.2f}%')"
      ],
      "metadata": {
        "colab": {
          "base_uri": "https://localhost:8080/"
        },
        "id": "K98hv9lVJp8S",
        "outputId": "ebfa3924-30ff-4ddf-b7af-74a6e5dfa1b8"
      },
      "execution_count": null,
      "outputs": [
        {
          "output_type": "stream",
          "name": "stdout",
          "text": [
            "Точность модели с алгоритмом LogisticRegression на валидационной выборке составляет 85.56%\n",
            "Матрица ошибок:\n",
            " [[50  5]\n",
            " [ 8 27]]\n",
            "Точность = 84.38%\n",
            "Полнота = 77.14%\n",
            "F1-мера = 80.60%\n"
          ]
        }
      ]
    },
    {
      "cell_type": "code",
      "source": [
        "# оставил кросс валидацию, так как поделил данные сам на тренировочные , валидационные и тестовые\n",
        "from sklearn.model_selection import cross_val_score\n",
        "from sklearn.model_selection import StratifiedKFold\n",
        "\n",
        "scores = cross_val_score(model_LR, X_train_1, y_train, cv=StratifiedKFold(n_splits=5))  # cv=5 → 5 фолдов\n",
        "print(\"Средняя точность:\", scores.mean())"
      ],
      "metadata": {
        "colab": {
          "base_uri": "https://localhost:8080/"
        },
        "id": "q0eTafc9EIy4",
        "outputId": "6235f6b9-0a7e-4287-e45a-d6c0a9ddcbc6"
      },
      "execution_count": null,
      "outputs": [
        {
          "output_type": "stream",
          "name": "stdout",
          "text": [
            "Средняя точность: 0.7934969556211161\n"
          ]
        }
      ]
    },
    {
      "cell_type": "code",
      "source": [
        "# Предсказываем на тестовой выборке\n",
        "y_pred_LR_test = model_LR.predict(X_test_1)\n",
        "# Определим точность\n",
        "accuracy_LR = accuracy_score(y_test, y_pred_LR_test)\n",
        "print(f'Точность модели с алгоритмом LogisticRegression на тестовой выборке составляет {accuracy_LR*100:.2f}%')\n",
        "cm_LR = confusion_matrix(y_test, y_pred_LR_test)\n",
        "print('Матрица ошибок:\\n', cm_LR)\n",
        "precision_LR = precision_score(y_test, y_pred_LR_test)\n",
        "print(f'Точность = {precision_LR*100:.2f}%')\n",
        "recall_LR = recall_score(y_test, y_pred_LR_test)\n",
        "print(f'Полнота = {recall_LR*100:.2f}%')\n",
        "f1_LR = f1_score(y_test, y_pred_LR_test)\n",
        "print(f'F1-мера = {f1_LR*100:.2f}%')"
      ],
      "metadata": {
        "colab": {
          "base_uri": "https://localhost:8080/"
        },
        "id": "BVhr3S1wOweb",
        "outputId": "917beadf-aff7-442a-8213-c8546616fcdd"
      },
      "execution_count": null,
      "outputs": [
        {
          "output_type": "stream",
          "name": "stdout",
          "text": [
            "Точность модели с алгоритмом LogisticRegression на тестовой выборке составляет 94.02%\n",
            "Матрица ошибок:\n",
            " [[250  16]\n",
            " [  9 143]]\n",
            "Точность = 89.94%\n",
            "Полнота = 94.08%\n",
            "F1-мера = 91.96%\n"
          ]
        }
      ]
    },
    {
      "cell_type": "markdown",
      "source": [
        "2) Градиентный бустинг (Gradient Boosting)"
      ],
      "metadata": {
        "id": "iv8_RX6BvB_r"
      }
    },
    {
      "cell_type": "code",
      "source": [
        "# Модель классификатор градиентного бустинга (Gradient Boosting)\n",
        "from xgboost import XGBClassifier\n",
        "# Инициализируем модель и настраиваем ее параметры\n",
        "model_XGB = XGBClassifier(n_estimators=250, max_depth=2, learning_rate=0.2, subsample=0.6, colsample_bytree=0.2, random_state = 2)\n",
        "# Обучаем на подготовленных данных\n",
        "model_XGB.fit(X_train_1, y_train)\n",
        "# Предсказываем на тестовой выборке\n",
        "y_pred_XGB = model_XGB.predict(X_test_1)\n",
        "# Определим точность\n",
        "accuracy_XGB = accuracy_score(y_test, y_pred_XGB)\n",
        "print(f'Точность модели с алгоритмом XGB на тестовой выборке составляет {accuracy_XGB*100:.2f}%')\n",
        "# Матрица ошибок\n",
        "cm_XGB = confusion_matrix(y_test, y_pred_XGB)\n",
        "print('Матрица ошибок:\\n', cm_XGB)\n",
        "precision_XGB = precision_score(y_test, y_pred_XGB)\n",
        "print(f'Точность = {precision_XGB*100:.2f}%')\n",
        "recall_XGB = recall_score(y_test, y_pred_XGB)\n",
        "print(f'Полнота = {recall_XGB*100:.2f}%')\n",
        "f1_XGB = f1_score(y_test, y_pred_XGB)\n",
        "print(f'F1-мера = {f1_XGB*100:.2f}%')"
      ],
      "metadata": {
        "colab": {
          "base_uri": "https://localhost:8080/"
        },
        "id": "GDFZoulFLchK",
        "outputId": "650a40d8-4b33-4c0b-e4ab-a6901877e79e"
      },
      "execution_count": null,
      "outputs": [
        {
          "output_type": "stream",
          "name": "stdout",
          "text": [
            "Точность модели с алгоритмом XGB на тестовой выборке составляет 94.74%\n",
            "Матрица ошибок:\n",
            " [[255  11]\n",
            " [ 11 141]]\n",
            "Точность = 92.76%\n",
            "Полнота = 92.76%\n",
            "F1-мера = 92.76%\n"
          ]
        }
      ]
    },
    {
      "cell_type": "markdown",
      "source": [
        "3) Случайный лес (RandomForestClassifier)"
      ],
      "metadata": {
        "id": "6vs07sFFvhVA"
      }
    },
    {
      "cell_type": "code",
      "source": [
        "from sklearn.ensemble import RandomForestClassifier\n",
        "# Инициализируем модель и настраиваем ее параметры\n",
        "model_RFC = RandomForestClassifier(n_estimators=175, max_depth=4)\n",
        "# Обучаем на подготовленных данных\n",
        "model_RFC.fit(X_train_1,y_train)\n",
        "# Предсказываем на тестовой выборке\n",
        "y_pred_RFC = model_RFC.predict(X_test_1)\n",
        "# Определим точность\n",
        "accuracy_RFC = accuracy_score(y_test, y_pred_RFC)\n",
        "print(f'Точность модели с алгоритмом RandomForestClassifier составляет {accuracy*100:.2f}%')\n",
        "# Матрица ошибок\n",
        "cm_RFC = confusion_matrix(y_test, y_pred_RFC)\n",
        "print(cm_RFC)\n",
        "precision_RFC = precision_score(y_test, y_pred_RFC)\n",
        "print(f'Точность = {precision_RFC*100:.2f}%')\n",
        "recall_RFC = recall_score(y_test, y_pred_RFC)\n",
        "print(f'Полнота = {recall_RFC*100:.2f}%')\n",
        "f1_RFC = f1_score(y_test, y_pred_RFC)\n",
        "print(f'F1-мера = {f1_RFC*100:.2f}%')"
      ],
      "metadata": {
        "colab": {
          "base_uri": "https://localhost:8080/"
        },
        "id": "o7ErYMRnMR15",
        "outputId": "1803b987-1b4b-4827-d047-dd00e16d46f5"
      },
      "execution_count": null,
      "outputs": [
        {
          "output_type": "stream",
          "name": "stdout",
          "text": [
            "Точность модели с алгоритмом RandomForestClassifier составляет 85.56%\n",
            "[[258   8]\n",
            " [ 28 124]]\n",
            "Точность = 93.94%\n",
            "Полнота = 81.58%\n",
            "F1-мера = 87.32%\n"
          ]
        }
      ]
    },
    {
      "cell_type": "markdown",
      "source": [
        "4) Метод опорных векторов (SVM)"
      ],
      "metadata": {
        "id": "taSQAxIWvlvI"
      }
    },
    {
      "cell_type": "code",
      "source": [
        "from sklearn.svm import SVC\n",
        "# Инициализируем модель и настраиваем ее параметры\n",
        "model_SVC = SVC(kernel='rbf')\n",
        "# Обучаем на подготовленных данных\n",
        "model_SVC.fit(X_train_1, y_train)\n",
        "# Предсказываем на тестовой выборке\n",
        "y_pred_SVC = model_SVC.predict(X_test_1)\n",
        "# Определим точность\n",
        "accuracy_SVC = accuracy_score(y_test, y_pred_SVC)\n",
        "print(f'Точность модели с алгоритмом SVC составляет {accuracy*100:.2f}%')\n",
        "# Матрица ошибок\n",
        "cm_SVC = confusion_matrix(y_test, y_pred_SVC)\n",
        "print(cm_SVC)\n",
        "precision_SVC = precision_score(y_test, y_pred_SVC)\n",
        "print(f'Точность = {precision_SVC*100:.2f}%')\n",
        "recall_SVC = recall_score(y_test, y_pred_SVC)\n",
        "print(f'Полнота = {recall_SVC*100:.2f}%')\n",
        "f1_SVC = f1_score(y_test, y_pred_SVC)\n",
        "print(f'F1-мера = {f1_SVC*100:.2f}%')"
      ],
      "metadata": {
        "colab": {
          "base_uri": "https://localhost:8080/"
        },
        "id": "_8wBIVekNLuC",
        "outputId": "e76b76c8-9298-4898-9bb3-7c828794554c"
      },
      "execution_count": null,
      "outputs": [
        {
          "output_type": "stream",
          "name": "stdout",
          "text": [
            "Точность модели с алгоритмом SVC составляет 85.56%\n",
            "[[266   0]\n",
            " [ 24 128]]\n",
            "Точность = 100.00%\n",
            "Полнота = 84.21%\n",
            "F1-мера = 91.43%\n"
          ]
        }
      ]
    },
    {
      "cell_type": "markdown",
      "source": [
        "5) Наивный Байес (Naive Bayes)"
      ],
      "metadata": {
        "id": "_wvzxL7DwIHl"
      }
    },
    {
      "cell_type": "code",
      "source": [
        "from sklearn.naive_bayes import GaussianNB\n",
        "# Инициализируем модель и настраиваем ее параметры\n",
        "model_GNB = GaussianNB()\n",
        "# Обучаем на подготовленных данных\n",
        "model_GNB.fit(X_train,y_train)\n",
        "# Предсказываем на тестовой выборке\n",
        "y_pred_GNB = model_GNB.predict(X_test)\n",
        "# Определим точность\n",
        "accuracy_GNB = accuracy_score(y_test, y_pred_GNB)\n",
        "print(f'Точность модели с алгоритмом GaussianNB составляет {accuracy*100:.2f}%')\n",
        "# Матрица ошибок\n",
        "cm_GNB = confusion_matrix(y_test, y_pred_GNB)\n",
        "print(cm_GNB)\n",
        "precision_GNB = precision_score(y_test, y_pred_GNB)\n",
        "print(f'Точность = {precision_GNB*100:.2f}%')\n",
        "recall_GNB = recall_score(y_test, y_pred_GNB)\n",
        "print(f'Полнота = {recall_GNB*100:.2f}%')\n",
        "f1_GNB = f1_score(y_test, y_pred_GNB)\n",
        "print(f'F1-мера = {f1_GNB*100:.2f}%')\n",
        "\n",
        "# ps модель лучше обучается на данных до обработки MinMaxScaler"
      ],
      "metadata": {
        "colab": {
          "base_uri": "https://localhost:8080/"
        },
        "id": "N3maD8ypNhPY",
        "outputId": "cfa29a24-f398-453c-aa9a-b6a0c30e6a47"
      },
      "execution_count": null,
      "outputs": [
        {
          "output_type": "stream",
          "name": "stdout",
          "text": [
            "Точность модели с алгоритмом GaussianNB составляет 85.56%\n",
            "[[231  35]\n",
            " [  7 145]]\n",
            "Точность = 80.56%\n",
            "Полнота = 95.39%\n",
            "F1-мера = 87.35%\n"
          ]
        }
      ]
    },
    {
      "cell_type": "markdown",
      "source": [
        "6) Метод k-ближайших соседей (KNN)"
      ],
      "metadata": {
        "id": "xwRAkEwXwWbT"
      }
    },
    {
      "cell_type": "code",
      "source": [
        "from sklearn.neighbors import KNeighborsClassifier\n",
        "# Инициализируем модель и настраиваем ее параметры\n",
        "model_KNN = KNeighborsClassifier(n_neighbors=5)\n",
        "# Обучаем на подготовленных данных\n",
        "model_KNN.fit(X_train, y_train)\n",
        "# Предсказываем на тестовой выборке\n",
        "y_pred_KNN = model_KNN.predict(X_test)\n",
        "# Определим точность\n",
        "accuracy_KNN = accuracy_score(y_test, y_pred_KNN)\n",
        "print(f'Точность модели с алгоритмом KNN составляет {accuracy*100:.2f}%')\n",
        "# Матрица ошибок\n",
        "cm_KNN = confusion_matrix(y_test, y_pred_KNN)\n",
        "print(cm_KNN)\n",
        "precision_KNN = precision_score(y_test, y_pred_KNN)\n",
        "print(f'Точность = {precision_KNN*100:.2f}%')\n",
        "recall_KNN = recall_score(y_test, y_pred_KNN)\n",
        "print(f'Полнота = {recall_KNN*100:.2f}%')\n",
        "f1_KNN = f1_score(y_test, y_pred_KNN)\n",
        "print(f'F1-мера = {f1_KNN*100:.2f}%')\n",
        "# ps модель лучше обучается на данных до обработки MinMaxScaler"
      ],
      "metadata": {
        "colab": {
          "base_uri": "https://localhost:8080/"
        },
        "id": "AGed6xIUwWBL",
        "outputId": "e94fdf28-6004-4fb5-b19f-694b7ac6f76d"
      },
      "execution_count": null,
      "outputs": [
        {
          "output_type": "stream",
          "name": "stdout",
          "text": [
            "Точность модели с алгоритмом KNN составляет 85.56%\n",
            "[[190  76]\n",
            " [ 67  85]]\n",
            "Точность = 52.80%\n",
            "Полнота = 55.92%\n",
            "F1-мера = 54.31%\n"
          ]
        }
      ]
    },
    {
      "cell_type": "markdown",
      "source": [
        "## 4. Визуализируем результаты"
      ],
      "metadata": {
        "id": "kNVckMJHr-wM"
      }
    },
    {
      "cell_type": "code",
      "source": [
        "# Визуализируем матрицы ошибок\n",
        "cm_list = [cm_LR, cm_XGB, cm_RFC, cm_SVC, cm_GNB, cm_KNN] #тут храним названия переменных, в которых хранятся матрицы ошибок всех моделей\n",
        "\n",
        "model_names = ['LR', 'XGB', 'RFC', 'SVC', 'GNB', 'KNN'] # подписи к моделям\n",
        "\n",
        "# Создаем сетку графиков (1 строка x 6 колонок, всего 6 мест)\n",
        "fig, axes = plt.subplots(nrows=1, ncols=6, figsize=(18, 3))  # Можно подобрать размер\n",
        "fig.tight_layout(pad=3)  # Отступы между графиками\n",
        "\n",
        "for i, (cm, name) in enumerate(zip(cm_list, model_names)):\n",
        "    ax = axes[i] # номер колонки\n",
        "    sns.heatmap(\n",
        "        cm,\n",
        "        fmt ='d',\n",
        "        annot = True,\n",
        "        cmap = \"YlOrBr\",\n",
        "        xticklabels = ['Не выжил','Выжил'],\n",
        "        yticklabels = ['Не выжил','Выжил'],\n",
        "        ax=ax\n",
        "    )\n",
        "    ax.set_title(f\"Матрица ошибок {name}\")\n",
        "    ax.set_xlabel(\"Предсказанные классы\")\n",
        "    ax.set_ylabel(\"Истинные классы\")\n",
        "plt.suptitle(\"Матрицы ошибок моделей для предсказания выживших на Титанике\", y=1.1)\n",
        "plt.show()"
      ],
      "metadata": {
        "colab": {
          "base_uri": "https://localhost:8080/",
          "height": 344
        },
        "collapsed": true,
        "id": "3tyaXS5jGx5K",
        "outputId": "25d53b62-1c3c-4bd4-85ea-b20c25aed4a0"
      },
      "execution_count": null,
      "outputs": [
        {
          "output_type": "display_data",
          "data": {
            "text/plain": [
              "<Figure size 1800x300 with 12 Axes>"
            ],
            "image/png": "[encoded data removed]"
          },
          "metadata": {}
        }
      ]
    },
    {
      "cell_type": "code",
      "source": [
        "#Визуализируем точность и другие метрики\n",
        "accuracy_list = [accuracy_LR, accuracy_XGB, accuracy_RFC, accuracy_SVC, accuracy_GNB, accuracy_KNN]\n",
        "precision_list = [precision_LR, precision_XGB, precision_RFC, precision_SVC, precision_GNB, precision_KNN]\n",
        "recall_list = [recall_LR, recall_XGB, recall_RFC, recall_SVC, recall_GNB, recall_KNN]\n",
        "f1_list = [f1_LR, f1_XGB, f1_RFC, f1_SVC, f1_GNB, f1_KNN]\n",
        "\n",
        "model_names = ['LR', 'XGB', 'RFC', 'SVC', 'GNB', 'KNN']\n",
        "metrics = {\n",
        "    'Accuracy': accuracy_list,\n",
        "    'Precision': precision_list,\n",
        "    'Recall': recall_list,\n",
        "    'F1-score': f1_list\n",
        "}\n",
        "\n",
        "x = np.arange(len(model_names))  # позиции для меток моделей\n",
        "width = 0.2  # ширина столбцов\n",
        "\n",
        "fig, ax = plt.subplots(figsize=(18, 5))\n",
        "\n",
        "# Создаем столбцы для каждой метрики\n",
        "for i, (metric_name, metric_values) in enumerate(metrics.items()):\n",
        "    offset = width * i\n",
        "    ax.bar(x + offset, metric_values, width, label=metric_name)\n",
        "\n",
        "# Настройки графика\n",
        "ax.set_xticks(x + width * 1.5)\n",
        "ax.set_xticklabels(model_names)\n",
        "ax.set_ylabel('Score')\n",
        "ax.set_title('Сравнение метрик моделей')\n",
        "ax.legend(loc='upper left', bbox_to_anchor=(1, 1))\n",
        "ax.grid(axis='y', linestyle='--', alpha=0.7)\n",
        "plt.ylim(0, 1.1)  # Метрики обычно в диапазоне [0, 1]\n",
        "\n",
        "plt.tight_layout()\n",
        "plt.show()"
      ],
      "metadata": {
        "colab": {
          "base_uri": "https://localhost:8080/",
          "height": 507
        },
        "id": "cm4H7785sIeO",
        "outputId": "3d558a60-4252-4ea9-b366-cde116b53ba0"
      },
      "execution_count": null,
      "outputs": [
        {
          "output_type": "display_data",
          "data": {
            "text/plain": [
              "<Figure size 1800x500 with 1 Axes>"
            ],
            "image/png": "[encoded data removed]"
          },
          "metadata": {}
        }
      ]
    },
    {
      "cell_type": "markdown",
      "source": [
        "## 4. Итоговые выводы по проведенному исследованию (Пассажиры на Титанике)\n",
        "###1. Исследование данных\n",
        "- Набор данных состоит из 3х дата сетов:\n",
        "    - 1 датасет `df_train` содержит данные для тренировки моделей  и состоит из 891 записи о пассажирах с 10 признаками\n",
        "    - 2 датасет `df_test` содержит тестовые данные, состоящий  из 418 записей о пассажирах\n",
        "    - 3 датасет содержит классы пассажиров тестовых данных\n",
        "\n",
        "- Признаки влючают **10 параметров**:\n",
        "    - **Социально-экономический статус  (1, 2, 3), самый высокий 1**,\n",
        "    - Имя пассажира,\n",
        "    - **Пол пассажира,**\n",
        "    - **Возраст пассажира в годах,**\n",
        "    - **Количество братьев и сестер/супругов на борту Титаника,**\n",
        "    - **Количество родителей/детей на борту Титаника,**\n",
        "    - Номер билет,\n",
        "    - **Стоимость проезда,**\n",
        "    - Номер каюты,\n",
        "    - **Порт отправления (C = Шербур, Q = Квинстаун, S = Саутгемптон)**\n",
        "- Наблюдается **дисбаланс классов** в тренировочной выборке:\n",
        "    - **61.6% (549 человек)** - Не выжил (статус `0`),\n",
        "    - **38.4% (342 человек)** - Выживший (статус `1`).\n",
        "###2. Предобработка данных\n",
        "- Дубликатов не обнаружено.\n",
        "- Для обучения моделей были исключены следующие признаки:\n",
        "    - Имя пассажира,\n",
        "    - Номер билет,\n",
        "    - Номер каюты.\n",
        "- Были пропущены значения **возраста пассажира в годах('Age')**, так как признак значимый, было принято решение заполнить пропуски средними значениями по группированным признакам: **пол пассажира, Социально-экономический статус('Sex', 'Pclass')**\n",
        "- Для борьбы с дисбалансом применены:\n",
        "    - `stratify = y_train` при разделении данных,\n",
        "- Признаки маштабированы до диапазона `[0,1]` с помощью `MinMaxScaler` для улучшения сходимости моделей.\n",
        "- Данные представлены в следующих наборах (для различных моделей свои предобработанные данные):\n",
        "    - Тренировочный дата сет поделен на тренировочные и валидационные выборки\n",
        "        - Тренировочные `X_train_split, y_train_split`\n",
        "        - Валидационные `X_val_split, y_val_split`\n",
        "        - Тестовые `X_test_1, y_test`\n",
        "        - Признаки нормализованы в диапозоне **от 0 до 1**\n",
        "    - Тренировочный датасет не поделен\n",
        "        - Тренировочные `X_train_1, y_train`\n",
        "        - Тестовые `X_test_1, y_test`\n",
        "        - Признаки нормализованы в диапозоне **от 0 до 1**\n",
        "    - Признаки тренировочного дата сета не маштабированы\n",
        "        - Тренировочные `X_train, y_train`\n",
        "        - Тестовые `X_test_1, y_test`\n",
        "###3. Анализ корреляций и зависимостей\n",
        "- Наибольшая корреляция с целевой переменной `'Survived'`:\n",
        "    - `Sex` (0,54),\n",
        "    - `Pclass` (-0,34),\n",
        "    - `Fare` (0,26).\n",
        "- **Скрипичные графики** подтвердили , что выживаемость пассажиров зависила от следующих признаков:\n",
        "    - Чем выше Социально-экономический статус тем больше шансов выжить,\n",
        "    - У женщин выжить шансов в 2 раза больше чем у мужчин,\n",
        "    - Детей спасали чаще чем взрослых,\n",
        "    - Возможно маленьких детей с родителями спасали в первую очередь,\n",
        "    - Чем дороже билет тем больше шансов на выживание,\n",
        "    - У севших на корабль в порту \"C = Шербур\" шансов выжить больше чем у других\n",
        "###4. Результаты моделировани\n",
        "- Были протестированы 6 алгоритмов классического машинного обучения + их результаты:\n",
        "    1. Логистическая регрессия (Logistic Regression)\n",
        "        - **Точность (accuracy)** на тестовой выборке: *94,02%*\n",
        "        - **Матрица ошибок:**\n",
        "            - **16** Ошибочно предсказанных как выжившие (на самом деле погибли),\n",
        "            - **9** Ошибочно предсказанных как погибшие (на самом деле выжили).\n",
        "        - **Precision (Точность): *89,94%* - доля верно предсказанных выживших среди всех предсказанных.\n",
        "        - **Recall (Полнота): *94,08%* - Сколько реальных выживших модель нашла.\n",
        "        - **F1-мера: *91,96%* - баланс между точностью и полнотой.\n",
        "    2. Градиентный бустинг (Gradient Boosting)\n",
        "        - **Матрица ошибок:**\n",
        "            - **11** Ошибочно предсказанных как выжившие,\n",
        "            - **11** Ошибочно предсказанных как погибшие.\n",
        "    3. Случайный лес (RandomForestClassifier)\n",
        "        - **Матрица ошибок:**\n",
        "            - **8** Ошибочно предсказанных как выжившие,\n",
        "            - **28** Ошибочно предсказанных как погибшие.\n",
        "    4. Метод опорных векторов (SVM)\n",
        "        - **Матрица ошибок:**\n",
        "            - **0** Ошибочно предсказанных как выжившие,\n",
        "            - **24** Ошибочно предсказанных как погибшие.\n",
        "    5. Наивный Байес (Naive Bayes)\n",
        "        - **Матрица ошибок:**\n",
        "            - **35** Ошибочно предсказанных как выжившие,\n",
        "            - **7** Ошибочно предсказанных как погибшие.\n",
        "    6. Метод k-ближайших соседей (KNN)\n",
        "        - **Матрица ошибок:**\n",
        "            - **76** Ошибочно предсказанных как выжившие,\n",
        "            - **67** Ошибочно предсказанных как погибшие.\n",
        "- Сравнительная таблица метрик по моделям:\n",
        "\n",
        "| Модель | Accuracy | Precision | Recall | F1-мера|\n",
        "|:-------|:--------:|:---------:|:------:|:------:|\n",
        "| LR     | 0.94     | 0.89      | 0.94   | 0.91   |\n",
        "| XGB    | 0.95     | 0.93      | 0.93   | 0.93   |\n",
        "| RFC    | 0.86     | 0.94      | 0.82   | 0.82   |\n",
        "| SVC    | 0.86     | 1.00      | 0.84   | 0.91   |\n",
        "| GNB    | 0.86     | 0.80      | 0.95   | 0.87   |\n",
        "| KNN    | 0.86     | 0.53      | 0.56   | 0.54   |\n",
        "\n",
        "###Заключение\n",
        "\n",
        "Модели: XGB, LR, SVC лучше остальных решают задачу классификации выживших Титаника на основе данных об социально-экономическом статусе, гендерной принадлежности, возрасте, количестве родственников, стоимости билета, порта отправления, пассажиров."
      ],
      "metadata": {
        "id": "WsJkkFvbz0TO"
      }
    }
  ]
}